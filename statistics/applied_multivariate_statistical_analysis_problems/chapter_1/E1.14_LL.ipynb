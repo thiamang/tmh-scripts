{
 "cells": [
  {
   "cell_type": "code",
   "execution_count": 32,
   "metadata": {
    "collapsed": true
   },
   "outputs": [],
   "source": [
    "import pandas as pd\n",
    "import numpy as np\n",
    "import matplotlib.pyplot as plt\n",
    "%matplotlib inline"
   ]
  },
  {
   "cell_type": "code",
   "execution_count": 38,
   "metadata": {
    "collapsed": true
   },
   "outputs": [],
   "source": [
    "# 把全部数据读取进一个矩阵\n",
    "full_data = pd.read_csv(\"../wichern_data/T1-6.dat\", sep='\\s+', header=None, skiprows=0).rename(columns={0: 'x1', 1: 'x2', 2: 'x3', 3: 'x4', 4: 'x5', 5: 'x6'})"
   ]
  },
  {
   "cell_type": "code",
   "execution_count": 47,
   "metadata": {
    "collapsed": false
   },
   "outputs": [
    {
     "data": {
      "text/html": [
       "<div>\n",
       "<table border=\"1\" class=\"dataframe\">\n",
       "  <thead>\n",
       "    <tr style=\"text-align: right;\">\n",
       "      <th></th>\n",
       "      <th>x1</th>\n",
       "      <th>x2</th>\n",
       "      <th>x3</th>\n",
       "      <th>x4</th>\n",
       "      <th>x5</th>\n",
       "      <th>x6</th>\n",
       "    </tr>\n",
       "  </thead>\n",
       "  <tbody>\n",
       "    <tr>\n",
       "      <th>0</th>\n",
       "      <td>18</td>\n",
       "      <td>152.0</td>\n",
       "      <td>1.6</td>\n",
       "      <td>198.4</td>\n",
       "      <td>0.0</td>\n",
       "      <td>0</td>\n",
       "    </tr>\n",
       "    <tr>\n",
       "      <th>1</th>\n",
       "      <td>19</td>\n",
       "      <td>138.0</td>\n",
       "      <td>0.4</td>\n",
       "      <td>180.8</td>\n",
       "      <td>1.6</td>\n",
       "      <td>0</td>\n",
       "    </tr>\n",
       "    <tr>\n",
       "      <th>2</th>\n",
       "      <td>20</td>\n",
       "      <td>144.0</td>\n",
       "      <td>0.0</td>\n",
       "      <td>186.4</td>\n",
       "      <td>0.8</td>\n",
       "      <td>0</td>\n",
       "    </tr>\n",
       "    <tr>\n",
       "      <th>3</th>\n",
       "      <td>20</td>\n",
       "      <td>143.6</td>\n",
       "      <td>3.2</td>\n",
       "      <td>194.8</td>\n",
       "      <td>0.0</td>\n",
       "      <td>0</td>\n",
       "    </tr>\n",
       "    <tr>\n",
       "      <th>4</th>\n",
       "      <td>20</td>\n",
       "      <td>148.8</td>\n",
       "      <td>0.0</td>\n",
       "      <td>217.6</td>\n",
       "      <td>0.0</td>\n",
       "      <td>0</td>\n",
       "    </tr>\n",
       "  </tbody>\n",
       "</table>\n",
       "</div>"
      ],
      "text/plain": [
       "   x1     x2   x3     x4   x5  x6\n",
       "0  18  152.0  1.6  198.4  0.0   0\n",
       "1  19  138.0  0.4  180.8  1.6   0\n",
       "2  20  144.0  0.0  186.4  0.8   0\n",
       "3  20  143.6  3.2  194.8  0.0   0\n",
       "4  20  148.8  0.0  217.6  0.0   0"
      ]
     },
     "execution_count": 47,
     "metadata": {},
     "output_type": "execute_result"
    }
   ],
   "source": [
    "full_data.head(5)"
   ]
  },
  {
   "cell_type": "code",
   "execution_count": 49,
   "metadata": {
    "collapsed": false
   },
   "outputs": [],
   "source": [
    "# 根据Table 1.6 把Non-Multiple-Sclerosis Group Data 放进nm_group\n",
    "nm_group = full_data[:69]\n",
    "# 然后，把Multiple-Sclerosis Group Data 放进m_group\n",
    "m_group = full_data[69:]"
   ]
  },
  {
   "cell_type": "code",
   "execution_count": 50,
   "metadata": {
    "collapsed": false
   },
   "outputs": [
    {
     "data": {
      "image/png": "[encoded data removed]",
      "text/plain": [
       "<matplotlib.figure.Figure at 0x1115447f0>"
      ]
     },
     "metadata": {},
     "output_type": "display_data"
    }
   ],
   "source": [
    "# 此处开始 1) 的作业\n",
    "x2 = m_group.get('x2')\n",
    "x4 = m_group.get('x4')\n",
    "# 这是 1) 的scatter diagram图表\n",
    "plt.scatter(x2,x4, alpha=0.5)\n",
    "plt.xlabel('S1L + S1R')\n",
    "plt.ylabel('S1L - S1R')\n",
    "plt.show()"
   ]
  },
  {
   "cell_type": "code",
   "execution_count": 51,
   "metadata": {
    "collapsed": false
   },
   "outputs": [
    {
     "data": {
      "text/plain": [
       "x1     42.068966\n",
       "x2    178.268966\n",
       "x3     12.275862\n",
       "x4    236.931034\n",
       "x5     13.082759\n",
       "x6      1.000000\n",
       "dtype: float64"
      ]
     },
     "execution_count": 51,
     "metadata": {},
     "output_type": "execute_result"
    }
   ],
   "source": [
    "# 开始 2) 的作业\n",
    "m_group.mean()"
   ]
  },
  {
   "cell_type": "code",
   "execution_count": 52,
   "metadata": {
    "collapsed": false
   },
   "outputs": [
    {
     "data": {
      "text/plain": [
       "x1     37.985507\n",
       "x2    147.289855\n",
       "x3      1.562319\n",
       "x4    195.602899\n",
       "x5      1.620290\n",
       "x6      0.000000\n",
       "dtype: float64"
      ]
     },
     "execution_count": 52,
     "metadata": {},
     "output_type": "execute_result"
    }
   ],
   "source": [
    "nm_group.mean()"
   ]
  },
  {
   "cell_type": "code",
   "execution_count": 53,
   "metadata": {
    "collapsed": false
   },
   "outputs": [
    {
     "data": {
      "text/html": [
       "<div>\n",
       "<table border=\"1\" class=\"dataframe\">\n",
       "  <thead>\n",
       "    <tr style=\"text-align: right;\">\n",
       "      <th></th>\n",
       "      <th>x1</th>\n",
       "      <th>x2</th>\n",
       "      <th>x3</th>\n",
       "      <th>x4</th>\n",
       "      <th>x5</th>\n",
       "      <th>x6</th>\n",
       "    </tr>\n",
       "  </thead>\n",
       "  <tbody>\n",
       "    <tr>\n",
       "      <th>x1</th>\n",
       "      <td>1.000000</td>\n",
       "      <td>0.165047</td>\n",
       "      <td>-0.103139</td>\n",
       "      <td>0.180208</td>\n",
       "      <td>-0.144606</td>\n",
       "      <td>NaN</td>\n",
       "    </tr>\n",
       "    <tr>\n",
       "      <th>x2</th>\n",
       "      <td>0.165047</td>\n",
       "      <td>1.000000</td>\n",
       "      <td>0.472233</td>\n",
       "      <td>0.913901</td>\n",
       "      <td>0.196063</td>\n",
       "      <td>NaN</td>\n",
       "    </tr>\n",
       "    <tr>\n",
       "      <th>x3</th>\n",
       "      <td>-0.103139</td>\n",
       "      <td>0.472233</td>\n",
       "      <td>1.000000</td>\n",
       "      <td>0.379764</td>\n",
       "      <td>0.890902</td>\n",
       "      <td>NaN</td>\n",
       "    </tr>\n",
       "    <tr>\n",
       "      <th>x4</th>\n",
       "      <td>0.180208</td>\n",
       "      <td>0.913901</td>\n",
       "      <td>0.379764</td>\n",
       "      <td>1.000000</td>\n",
       "      <td>0.126002</td>\n",
       "      <td>NaN</td>\n",
       "    </tr>\n",
       "    <tr>\n",
       "      <th>x5</th>\n",
       "      <td>-0.144606</td>\n",
       "      <td>0.196063</td>\n",
       "      <td>0.890902</td>\n",
       "      <td>0.126002</td>\n",
       "      <td>1.000000</td>\n",
       "      <td>NaN</td>\n",
       "    </tr>\n",
       "    <tr>\n",
       "      <th>x6</th>\n",
       "      <td>NaN</td>\n",
       "      <td>NaN</td>\n",
       "      <td>NaN</td>\n",
       "      <td>NaN</td>\n",
       "      <td>NaN</td>\n",
       "      <td>NaN</td>\n",
       "    </tr>\n",
       "  </tbody>\n",
       "</table>\n",
       "</div>"
      ],
      "text/plain": [
       "          x1        x2        x3        x4        x5  x6\n",
       "x1  1.000000  0.165047 -0.103139  0.180208 -0.144606 NaN\n",
       "x2  0.165047  1.000000  0.472233  0.913901  0.196063 NaN\n",
       "x3 -0.103139  0.472233  1.000000  0.379764  0.890902 NaN\n",
       "x4  0.180208  0.913901  0.379764  1.000000  0.126002 NaN\n",
       "x5 -0.144606  0.196063  0.890902  0.126002  1.000000 NaN\n",
       "x6       NaN       NaN       NaN       NaN       NaN NaN"
      ]
     },
     "execution_count": 53,
     "metadata": {},
     "output_type": "execute_result"
    }
   ],
   "source": [
    "# 未完待续……\n",
    "m_group.corr()"
   ]
  },
  {
   "cell_type": "code",
   "execution_count": 54,
   "metadata": {
    "collapsed": false
   },
   "outputs": [
    {
     "data": {
      "text/html": [
       "<div>\n",
       "<table border=\"1\" class=\"dataframe\">\n",
       "  <thead>\n",
       "    <tr style=\"text-align: right;\">\n",
       "      <th></th>\n",
       "      <th>x1</th>\n",
       "      <th>x2</th>\n",
       "      <th>x3</th>\n",
       "      <th>x4</th>\n",
       "      <th>x5</th>\n",
       "      <th>x6</th>\n",
       "    </tr>\n",
       "  </thead>\n",
       "  <tbody>\n",
       "    <tr>\n",
       "      <th>x1</th>\n",
       "      <td>1.000000</td>\n",
       "      <td>0.540289</td>\n",
       "      <td>0.239489</td>\n",
       "      <td>0.457392</td>\n",
       "      <td>0.126756</td>\n",
       "      <td>NaN</td>\n",
       "    </tr>\n",
       "    <tr>\n",
       "      <th>x2</th>\n",
       "      <td>0.540289</td>\n",
       "      <td>1.000000</td>\n",
       "      <td>0.124068</td>\n",
       "      <td>0.740417</td>\n",
       "      <td>0.125573</td>\n",
       "      <td>NaN</td>\n",
       "    </tr>\n",
       "    <tr>\n",
       "      <th>x3</th>\n",
       "      <td>0.239489</td>\n",
       "      <td>0.124068</td>\n",
       "      <td>1.000000</td>\n",
       "      <td>0.122221</td>\n",
       "      <td>0.243149</td>\n",
       "      <td>NaN</td>\n",
       "    </tr>\n",
       "    <tr>\n",
       "      <th>x4</th>\n",
       "      <td>0.457392</td>\n",
       "      <td>0.740417</td>\n",
       "      <td>0.122221</td>\n",
       "      <td>1.000000</td>\n",
       "      <td>0.112559</td>\n",
       "      <td>NaN</td>\n",
       "    </tr>\n",
       "    <tr>\n",
       "      <th>x5</th>\n",
       "      <td>0.126756</td>\n",
       "      <td>0.125573</td>\n",
       "      <td>0.243149</td>\n",
       "      <td>0.112559</td>\n",
       "      <td>1.000000</td>\n",
       "      <td>NaN</td>\n",
       "    </tr>\n",
       "    <tr>\n",
       "      <th>x6</th>\n",
       "      <td>NaN</td>\n",
       "      <td>NaN</td>\n",
       "      <td>NaN</td>\n",
       "      <td>NaN</td>\n",
       "      <td>NaN</td>\n",
       "      <td>NaN</td>\n",
       "    </tr>\n",
       "  </tbody>\n",
       "</table>\n",
       "</div>"
      ],
      "text/plain": [
       "          x1        x2        x3        x4        x5  x6\n",
       "x1  1.000000  0.540289  0.239489  0.457392  0.126756 NaN\n",
       "x2  0.540289  1.000000  0.124068  0.740417  0.125573 NaN\n",
       "x3  0.239489  0.124068  1.000000  0.122221  0.243149 NaN\n",
       "x4  0.457392  0.740417  0.122221  1.000000  0.112559 NaN\n",
       "x5  0.126756  0.125573  0.243149  0.112559  1.000000 NaN\n",
       "x6       NaN       NaN       NaN       NaN       NaN NaN"
      ]
     },
     "execution_count": 54,
     "metadata": {},
     "output_type": "execute_result"
    }
   ],
   "source": [
    "nm_group.corr()"
   ]
  },
  {
   "cell_type": "code",
   "execution_count": null,
   "metadata": {
    "collapsed": true
   },
   "outputs": [],
   "source": []
  }
 ],
 "metadata": {
  "kernelspec": {
   "display_name": "Python 3",
   "language": "python",
   "name": "python3"
  },
  "language_info": {
   "codemirror_mode": {
    "name": "ipython",
    "version": 3
   },
   "file_extension": ".py",
   "mimetype": "text/x-python",
   "name": "python",
   "nbconvert_exporter": "python",
   "pygments_lexer": "ipython3",
   "version": "3.5.1"
  }
 },
 "nbformat": 4,
 "nbformat_minor": 0
}
