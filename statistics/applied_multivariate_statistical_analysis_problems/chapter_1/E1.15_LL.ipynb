{
 "cells": [
  {
   "cell_type": "code",
   "execution_count": 1,
   "metadata": {
    "collapsed": true
   },
   "outputs": [],
   "source": [
    "import pandas as pd\n",
    "import numpy as np\n",
    "import matplotlib.pyplot as plt\n",
    "%matplotlib inline"
   ]
  },
  {
   "cell_type": "code",
   "execution_count": 2,
   "metadata": {
    "collapsed": true
   },
   "outputs": [],
   "source": [
    "path=\"../wichern_data/\"\n",
    "t=pd.read_csv(path+'T1-7.dat', sep='\\s+', header=None, skiprows=0);\n",
    "t=t.rename(columns={0:'Symptoms', 1:'Activity', 2:'Sleep', 3:'Eat', 4:'Appetite', 5:'Skin_Reaction'});"
   ]
  },
  {
   "cell_type": "code",
   "execution_count": 6,
   "metadata": {
    "collapsed": false
   },
   "outputs": [
    {
     "data": {
      "text/html": [
       "<div>\n",
       "<table border=\"1\" class=\"dataframe\">\n",
       "  <thead>\n",
       "    <tr style=\"text-align: right;\">\n",
       "      <th></th>\n",
       "      <th>Symptoms</th>\n",
       "      <th>Activity</th>\n",
       "      <th>Sleep</th>\n",
       "      <th>Eat</th>\n",
       "      <th>Appetite</th>\n",
       "      <th>Skin_Reaction</th>\n",
       "    </tr>\n",
       "  </thead>\n",
       "  <tbody>\n",
       "    <tr>\n",
       "      <th>0</th>\n",
       "      <td>0.889</td>\n",
       "      <td>1.389</td>\n",
       "      <td>1.555</td>\n",
       "      <td>2.222</td>\n",
       "      <td>1.945</td>\n",
       "      <td>1</td>\n",
       "    </tr>\n",
       "    <tr>\n",
       "      <th>1</th>\n",
       "      <td>2.813</td>\n",
       "      <td>1.437</td>\n",
       "      <td>0.999</td>\n",
       "      <td>2.312</td>\n",
       "      <td>2.312</td>\n",
       "      <td>2</td>\n",
       "    </tr>\n",
       "    <tr>\n",
       "      <th>2</th>\n",
       "      <td>1.454</td>\n",
       "      <td>1.091</td>\n",
       "      <td>2.364</td>\n",
       "      <td>2.455</td>\n",
       "      <td>2.909</td>\n",
       "      <td>3</td>\n",
       "    </tr>\n",
       "    <tr>\n",
       "      <th>3</th>\n",
       "      <td>0.294</td>\n",
       "      <td>0.941</td>\n",
       "      <td>1.059</td>\n",
       "      <td>2.000</td>\n",
       "      <td>1.000</td>\n",
       "      <td>1</td>\n",
       "    </tr>\n",
       "    <tr>\n",
       "      <th>4</th>\n",
       "      <td>2.727</td>\n",
       "      <td>2.545</td>\n",
       "      <td>2.819</td>\n",
       "      <td>2.727</td>\n",
       "      <td>4.091</td>\n",
       "      <td>0</td>\n",
       "    </tr>\n",
       "    <tr>\n",
       "      <th>5</th>\n",
       "      <td>3.937</td>\n",
       "      <td>1.250</td>\n",
       "      <td>1.937</td>\n",
       "      <td>2.937</td>\n",
       "      <td>3.749</td>\n",
       "      <td>1</td>\n",
       "    </tr>\n",
       "    <tr>\n",
       "      <th>6</th>\n",
       "      <td>2.786</td>\n",
       "      <td>1.714</td>\n",
       "      <td>2.357</td>\n",
       "      <td>2.071</td>\n",
       "      <td>2.000</td>\n",
       "      <td>2</td>\n",
       "    </tr>\n",
       "    <tr>\n",
       "      <th>7</th>\n",
       "      <td>5.231</td>\n",
       "      <td>2.692</td>\n",
       "      <td>1.077</td>\n",
       "      <td>1.846</td>\n",
       "      <td>2.539</td>\n",
       "      <td>1</td>\n",
       "    </tr>\n",
       "    <tr>\n",
       "      <th>8</th>\n",
       "      <td>1.150</td>\n",
       "      <td>1.100</td>\n",
       "      <td>0.950</td>\n",
       "      <td>2.000</td>\n",
       "      <td>1.000</td>\n",
       "      <td>1</td>\n",
       "    </tr>\n",
       "    <tr>\n",
       "      <th>9</th>\n",
       "      <td>6.500</td>\n",
       "      <td>2.562</td>\n",
       "      <td>1.749</td>\n",
       "      <td>2.562</td>\n",
       "      <td>2.499</td>\n",
       "      <td>1</td>\n",
       "    </tr>\n",
       "  </tbody>\n",
       "</table>\n",
       "</div>"
      ],
      "text/plain": [
       "   Symptoms  Activity  Sleep    Eat  Appetite  Skin_Reaction\n",
       "0     0.889     1.389  1.555  2.222     1.945              1\n",
       "1     2.813     1.437  0.999  2.312     2.312              2\n",
       "2     1.454     1.091  2.364  2.455     2.909              3\n",
       "3     0.294     0.941  1.059  2.000     1.000              1\n",
       "4     2.727     2.545  2.819  2.727     4.091              0\n",
       "5     3.937     1.250  1.937  2.937     3.749              1\n",
       "6     2.786     1.714  2.357  2.071     2.000              2\n",
       "7     5.231     2.692  1.077  1.846     2.539              1\n",
       "8     1.150     1.100  0.950  2.000     1.000              1\n",
       "9     6.500     2.562  1.749  2.562     2.499              1"
      ]
     },
     "execution_count": 6,
     "metadata": {},
     "output_type": "execute_result"
    }
   ],
   "source": [
    "t.head(10)"
   ]
  },
  {
   "cell_type": "code",
   "execution_count": 10,
   "metadata": {
    "collapsed": false
   },
   "outputs": [
    {
     "data": {
      "image/png": "[encoded data removed]",
      "text/plain": [
       "<matplotlib.figure.Figure at 0x10ca92518>"
      ]
     },
     "metadata": {},
     "output_type": "display_data"
    }
   ],
   "source": [
    "plt.scatter(t.Activity, t.Sleep, alpha=0.4)\n",
    "plt.xlabel('Activity')\n",
    "plt.ylabel('Sleep')\n",
    "plt.show() "
   ]
  },
  {
   "cell_type": "code",
   "execution_count": 12,
   "metadata": {
    "collapsed": false
   },
   "outputs": [
    {
     "data": {
      "text/html": [
       "<div>\n",
       "<table border=\"1\" class=\"dataframe\">\n",
       "  <thead>\n",
       "    <tr style=\"text-align: right;\">\n",
       "      <th></th>\n",
       "      <th>Symptoms</th>\n",
       "      <th>Activity</th>\n",
       "      <th>Sleep</th>\n",
       "      <th>Eat</th>\n",
       "      <th>Appetite</th>\n",
       "      <th>Skin_Reaction</th>\n",
       "    </tr>\n",
       "  </thead>\n",
       "  <tbody>\n",
       "    <tr>\n",
       "      <th>Symptoms</th>\n",
       "      <td>4.654751</td>\n",
       "      <td>0.931345</td>\n",
       "      <td>0.589699</td>\n",
       "      <td>0.276915</td>\n",
       "      <td>1.074886</td>\n",
       "      <td>0.158151</td>\n",
       "    </tr>\n",
       "    <tr>\n",
       "      <th>Activity</th>\n",
       "      <td>0.931345</td>\n",
       "      <td>0.612821</td>\n",
       "      <td>0.110933</td>\n",
       "      <td>0.118469</td>\n",
       "      <td>0.388886</td>\n",
       "      <td>-0.024852</td>\n",
       "    </tr>\n",
       "    <tr>\n",
       "      <th>Sleep</th>\n",
       "      <td>0.589699</td>\n",
       "      <td>0.110933</td>\n",
       "      <td>0.571429</td>\n",
       "      <td>0.087005</td>\n",
       "      <td>0.347990</td>\n",
       "      <td>0.110131</td>\n",
       "    </tr>\n",
       "    <tr>\n",
       "      <th>Eat</th>\n",
       "      <td>0.276915</td>\n",
       "      <td>0.118469</td>\n",
       "      <td>0.087005</td>\n",
       "      <td>0.110409</td>\n",
       "      <td>0.217406</td>\n",
       "      <td>0.021814</td>\n",
       "    </tr>\n",
       "    <tr>\n",
       "      <th>Appetite</th>\n",
       "      <td>1.074886</td>\n",
       "      <td>0.388886</td>\n",
       "      <td>0.347990</td>\n",
       "      <td>0.217406</td>\n",
       "      <td>0.862172</td>\n",
       "      <td>-0.008818</td>\n",
       "    </tr>\n",
       "    <tr>\n",
       "      <th>Skin_Reaction</th>\n",
       "      <td>0.158151</td>\n",
       "      <td>-0.024852</td>\n",
       "      <td>0.110131</td>\n",
       "      <td>0.021814</td>\n",
       "      <td>-0.008818</td>\n",
       "      <td>0.861456</td>\n",
       "    </tr>\n",
       "  </tbody>\n",
       "</table>\n",
       "</div>"
      ],
      "text/plain": [
       "               Symptoms  Activity     Sleep       Eat  Appetite  Skin_Reaction\n",
       "Symptoms       4.654751  0.931345  0.589699  0.276915  1.074886       0.158151\n",
       "Activity       0.931345  0.612821  0.110933  0.118469  0.388886      -0.024852\n",
       "Sleep          0.589699  0.110933  0.571429  0.087005  0.347990       0.110131\n",
       "Eat            0.276915  0.118469  0.087005  0.110409  0.217406       0.021814\n",
       "Appetite       1.074886  0.388886  0.347990  0.217406  0.862172      -0.008818\n",
       "Skin_Reaction  0.158151 -0.024852  0.110131  0.021814 -0.008818       0.861456"
      ]
     },
     "execution_count": 12,
     "metadata": {},
     "output_type": "execute_result"
    }
   ],
   "source": [
    "t.cov()"
   ]
  },
  {
   "cell_type": "code",
   "execution_count": 13,
   "metadata": {
    "collapsed": false
   },
   "outputs": [
    {
     "data": {
      "text/html": [
       "<div>\n",
       "<table border=\"1\" class=\"dataframe\">\n",
       "  <thead>\n",
       "    <tr style=\"text-align: right;\">\n",
       "      <th></th>\n",
       "      <th>Symptoms</th>\n",
       "      <th>Activity</th>\n",
       "      <th>Sleep</th>\n",
       "      <th>Eat</th>\n",
       "      <th>Appetite</th>\n",
       "      <th>Skin_Reaction</th>\n",
       "    </tr>\n",
       "  </thead>\n",
       "  <tbody>\n",
       "    <tr>\n",
       "      <th>Symptoms</th>\n",
       "      <td>1.000000</td>\n",
       "      <td>0.551437</td>\n",
       "      <td>0.361577</td>\n",
       "      <td>0.386275</td>\n",
       "      <td>0.536558</td>\n",
       "      <td>0.078978</td>\n",
       "    </tr>\n",
       "    <tr>\n",
       "      <th>Activity</th>\n",
       "      <td>0.551437</td>\n",
       "      <td>1.000000</td>\n",
       "      <td>0.187463</td>\n",
       "      <td>0.455445</td>\n",
       "      <td>0.535006</td>\n",
       "      <td>-0.034204</td>\n",
       "    </tr>\n",
       "    <tr>\n",
       "      <th>Sleep</th>\n",
       "      <td>0.361577</td>\n",
       "      <td>0.187463</td>\n",
       "      <td>1.000000</td>\n",
       "      <td>0.346386</td>\n",
       "      <td>0.495779</td>\n",
       "      <td>0.156969</td>\n",
       "    </tr>\n",
       "    <tr>\n",
       "      <th>Eat</th>\n",
       "      <td>0.386275</td>\n",
       "      <td>0.455445</td>\n",
       "      <td>0.346386</td>\n",
       "      <td>1.000000</td>\n",
       "      <td>0.704647</td>\n",
       "      <td>0.070733</td>\n",
       "    </tr>\n",
       "    <tr>\n",
       "      <th>Appetite</th>\n",
       "      <td>0.536558</td>\n",
       "      <td>0.535006</td>\n",
       "      <td>0.495779</td>\n",
       "      <td>0.704647</td>\n",
       "      <td>1.000000</td>\n",
       "      <td>-0.010232</td>\n",
       "    </tr>\n",
       "    <tr>\n",
       "      <th>Skin_Reaction</th>\n",
       "      <td>0.078978</td>\n",
       "      <td>-0.034204</td>\n",
       "      <td>0.156969</td>\n",
       "      <td>0.070733</td>\n",
       "      <td>-0.010232</td>\n",
       "      <td>1.000000</td>\n",
       "    </tr>\n",
       "  </tbody>\n",
       "</table>\n",
       "</div>"
      ],
      "text/plain": [
       "               Symptoms  Activity     Sleep       Eat  Appetite  Skin_Reaction\n",
       "Symptoms       1.000000  0.551437  0.361577  0.386275  0.536558       0.078978\n",
       "Activity       0.551437  1.000000  0.187463  0.455445  0.535006      -0.034204\n",
       "Sleep          0.361577  0.187463  1.000000  0.346386  0.495779       0.156969\n",
       "Eat            0.386275  0.455445  0.346386  1.000000  0.704647       0.070733\n",
       "Appetite       0.536558  0.535006  0.495779  0.704647  1.000000      -0.010232\n",
       "Skin_Reaction  0.078978 -0.034204  0.156969  0.070733 -0.010232       1.000000"
      ]
     },
     "execution_count": 13,
     "metadata": {},
     "output_type": "execute_result"
    }
   ],
   "source": [
    "t.corr()"
   ]
  },
  {
   "cell_type": "code",
   "execution_count": 11,
   "metadata": {
    "collapsed": false
   },
   "outputs": [
    {
     "data": {
      "text/plain": [
       "(array([ 33.,  15.,   6.,  16.,   6.,  12.,   3.,   2.,   2.,   3.]),\n",
       " array([ 0.941 ,  1.2469,  1.5528,  1.8587,  2.1646,  2.4705,  2.7764,\n",
       "         3.0823,  3.3882,  3.6941,  4.    ]),\n",
       " <a list of 10 Patch objects>)"
      ]
     },
     "execution_count": 11,
     "metadata": {},
     "output_type": "execute_result"
    },
    {
     "data": {
      "image/png": "[encoded data removed]",
      "text/plain": [
       "<matplotlib.figure.Figure at 0x1064d85c0>"
      ]
     },
     "metadata": {},
     "output_type": "display_data"
    }
   ],
   "source": [
    "plt.hist(t.Activity)"
   ]
  },
  {
   "cell_type": "code",
   "execution_count": 14,
   "metadata": {
    "collapsed": false
   },
   "outputs": [
    {
     "data": {
      "text/plain": [
       "(array([  4.,  14.,  11.,  12.,  15.,  16.,   9.,  13.,   1.,   3.]),\n",
       " array([ 0.666 ,  0.9994,  1.3328,  1.6662,  1.9996,  2.333 ,  2.6664,\n",
       "         2.9998,  3.3332,  3.6666,  4.    ]),\n",
       " <a list of 10 Patch objects>)"
      ]
     },
     "execution_count": 14,
     "metadata": {},
     "output_type": "execute_result"
    },
    {
     "data": {
      "image/png": "[encoded data removed]",
      "text/plain": [
       "<matplotlib.figure.Figure at 0x10cc59780>"
      ]
     },
     "metadata": {},
     "output_type": "display_data"
    }
   ],
   "source": [
    "plt.hist(t.Sleep)"
   ]
  },
  {
   "cell_type": "code",
   "execution_count": null,
   "metadata": {
    "collapsed": true
   },
   "outputs": [],
   "source": []
  }
 ],
 "metadata": {
  "kernelspec": {
   "display_name": "Python 3",
   "language": "python",
   "name": "python3"
  },
  "language_info": {
   "codemirror_mode": {
    "name": "ipython",
    "version": 3
   },
   "file_extension": ".py",
   "mimetype": "text/x-python",
   "name": "python",
   "nbconvert_exporter": "python",
   "pygments_lexer": "ipython3",
   "version": "3.5.1"
  }
 },
 "nbformat": 4,
 "nbformat_minor": 0
}
