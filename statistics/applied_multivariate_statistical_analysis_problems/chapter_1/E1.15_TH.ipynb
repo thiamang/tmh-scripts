{
 "cells": [
  {
   "cell_type": "code",
   "execution_count": 1,
   "metadata": {
    "collapsed": true
   },
   "outputs": [],
   "source": [
    "import pandas as pd\n",
    "import numpy as np\n",
    "import matplotlib.pyplot as plt\n",
    "%matplotlib inline"
   ]
  },
  {
   "cell_type": "code",
   "execution_count": 10,
   "metadata": {
    "collapsed": true
   },
   "outputs": [],
   "source": [
    "path=\"../wichern_data/\"\n",
    "t=pd.read_csv(path+'T1-7.dat', sep='\\s+', header=None, skiprows=0);\n",
    "t=t.rename(columns={0:'Symptoms', 1:'Activity', 2:'Sleep', 3:'Eat', 4:'Appetite', 5:'Skin_Reaction'});"
   ]
  },
  {
   "cell_type": "code",
   "execution_count": 11,
   "metadata": {
    "collapsed": false
   },
   "outputs": [
    {
     "data": {
      "text/html": [
       "<div>\n",
       "<table border=\"1\" class=\"dataframe\">\n",
       "  <thead>\n",
       "    <tr style=\"text-align: right;\">\n",
       "      <th></th>\n",
       "      <th>Symptoms</th>\n",
       "      <th>Activity</th>\n",
       "      <th>Sleep</th>\n",
       "      <th>Eat</th>\n",
       "      <th>Appetite</th>\n",
       "      <th>Skin_Reaction</th>\n",
       "    </tr>\n",
       "  </thead>\n",
       "  <tbody>\n",
       "    <tr>\n",
       "      <th>0</th>\n",
       "      <td>0.889</td>\n",
       "      <td>1.389</td>\n",
       "      <td>1.555</td>\n",
       "      <td>2.222</td>\n",
       "      <td>1.945</td>\n",
       "      <td>1</td>\n",
       "    </tr>\n",
       "    <tr>\n",
       "      <th>1</th>\n",
       "      <td>2.813</td>\n",
       "      <td>1.437</td>\n",
       "      <td>0.999</td>\n",
       "      <td>2.312</td>\n",
       "      <td>2.312</td>\n",
       "      <td>2</td>\n",
       "    </tr>\n",
       "    <tr>\n",
       "      <th>2</th>\n",
       "      <td>1.454</td>\n",
       "      <td>1.091</td>\n",
       "      <td>2.364</td>\n",
       "      <td>2.455</td>\n",
       "      <td>2.909</td>\n",
       "      <td>3</td>\n",
       "    </tr>\n",
       "    <tr>\n",
       "      <th>3</th>\n",
       "      <td>0.294</td>\n",
       "      <td>0.941</td>\n",
       "      <td>1.059</td>\n",
       "      <td>2.000</td>\n",
       "      <td>1.000</td>\n",
       "      <td>1</td>\n",
       "    </tr>\n",
       "    <tr>\n",
       "      <th>4</th>\n",
       "      <td>2.727</td>\n",
       "      <td>2.545</td>\n",
       "      <td>2.819</td>\n",
       "      <td>2.727</td>\n",
       "      <td>4.091</td>\n",
       "      <td>0</td>\n",
       "    </tr>\n",
       "  </tbody>\n",
       "</table>\n",
       "</div>"
      ],
      "text/plain": [
       "   Symptoms  Activity  Sleep    Eat  Appetite  Skin_Reaction\n",
       "0     0.889     1.389  1.555  2.222     1.945              1\n",
       "1     2.813     1.437  0.999  2.312     2.312              2\n",
       "2     1.454     1.091  2.364  2.455     2.909              3\n",
       "3     0.294     0.941  1.059  2.000     1.000              1\n",
       "4     2.727     2.545  2.819  2.727     4.091              0"
      ]
     },
     "execution_count": 11,
     "metadata": {},
     "output_type": "execute_result"
    }
   ],
   "source": [
    "t.head()"
   ]
  },
  {
   "cell_type": "code",
   "execution_count": 12,
   "metadata": {
    "collapsed": false
   },
   "outputs": [
    {
     "data": {
      "image/png": "[encoded data removed]",
      "text/plain": [
       "<matplotlib.figure.Figure at 0x108fd1290>"
      ]
     },
     "metadata": {},
     "output_type": "display_data"
    }
   ],
   "source": [
    "plt.scatter(t.Activity, t.Sleep, alpha=0.5)\n",
    "plt.xlabel('Activity')\n",
    "plt.ylabel('Sleep')\n",
    "plt.show() \n",
    "#Yea, there happens to be some error with the sleep data. How can you have so little sleep and so much activity?"
   ]
  },
  {
   "cell_type": "code",
   "execution_count": 13,
   "metadata": {
    "collapsed": false
   },
   "outputs": [
    {
     "data": {
      "text/plain": [
       "(array([ 33.,  15.,   6.,  16.,   6.,  12.,   3.,   2.,   2.,   3.]),\n",
       " array([ 0.941 ,  1.2469,  1.5528,  1.8587,  2.1646,  2.4705,  2.7764,\n",
       "         3.0823,  3.3882,  3.6941,  4.    ]),\n",
       " <a list of 10 Patch objects>)"
      ]
     },
     "execution_count": 13,
     "metadata": {},
     "output_type": "execute_result"
    },
    {
     "data": {
      "image/png": "[encoded data removed]",
      "text/plain": [
       "<matplotlib.figure.Figure at 0x10626d8d0>"
      ]
     },
     "metadata": {},
     "output_type": "display_data"
    }
   ],
   "source": [
    "plt.hist(t.Activity) # LOL - Look at all the people with low activity. "
   ]
  },
  {
   "cell_type": "code",
   "execution_count": 14,
   "metadata": {
    "collapsed": false
   },
   "outputs": [
    {
     "data": {
      "text/plain": [
       "(array([  4.,  14.,  11.,  12.,  15.,  16.,   9.,  13.,   1.,   3.]),\n",
       " array([ 0.666 ,  0.9994,  1.3328,  1.6662,  1.9996,  2.333 ,  2.6664,\n",
       "         2.9998,  3.3332,  3.6666,  4.    ]),\n",
       " <a list of 10 Patch objects>)"
      ]
     },
     "execution_count": 14,
     "metadata": {},
     "output_type": "execute_result"
    },
    {
     "data": {
      "image/png": "[encoded data removed]",
      "text/plain": [
       "<matplotlib.figure.Figure at 0x10c9d4d50>"
      ]
     },
     "metadata": {},
     "output_type": "display_data"
    }
   ],
   "source": [
    "plt.hist(t.Sleep) #Almost looks uniform. "
   ]
  },
  {
   "cell_type": "code",
   "execution_count": 16,
   "metadata": {
    "collapsed": false
   },
   "outputs": [
    {
     "data": {
      "text/plain": [
       "Activity    1.809357\n",
       "Sleep       2.137602\n",
       "dtype: float64"
      ]
     },
     "execution_count": 16,
     "metadata": {},
     "output_type": "execute_result"
    }
   ],
   "source": [
    "np.mean(t[['Activity', 'Sleep']])"
   ]
  },
  {
   "cell_type": "code",
   "execution_count": 17,
   "metadata": {
    "collapsed": false
   },
   "outputs": [
    {
     "data": {
      "text/plain": [
       "array([[ 0.61282116,  0.11093341],\n",
       "       [ 0.11093341,  0.57142886]])"
      ]
     },
     "execution_count": 17,
     "metadata": {},
     "output_type": "execute_result"
    }
   ],
   "source": [
    "np.cov(t.Activity, t.Sleep) #Besides positive or negative values, this covariance matrix isn't telling me much."
   ]
  },
  {
   "cell_type": "code",
   "execution_count": 18,
   "metadata": {
    "collapsed": false
   },
   "outputs": [
    {
     "data": {
      "text/plain": [
       "array([[ 1.       ,  0.1874625],\n",
       "       [ 0.1874625,  1.       ]])"
      ]
     },
     "execution_count": 18,
     "metadata": {},
     "output_type": "execute_result"
    }
   ],
   "source": [
    "np.corrcoef(t.Activity, t.Sleep) #Very low correlation between sleep and activity. "
   ]
  },
  {
   "cell_type": "code",
   "execution_count": null,
   "metadata": {
    "collapsed": true
   },
   "outputs": [],
   "source": []
  }
 ],
 "metadata": {
  "kernelspec": {
   "display_name": "Python 2",
   "language": "python",
   "name": "python2"
  },
  "language_info": {
   "codemirror_mode": {
    "name": "ipython",
    "version": 2
   },
   "file_extension": ".py",
   "mimetype": "text/x-python",
   "name": "python",
   "nbconvert_exporter": "python",
   "pygments_lexer": "ipython2",
   "version": "2.7.11"
  }
 },
 "nbformat": 4,
 "nbformat_minor": 0
}
