{
 "cells": [
  {
   "cell_type": "code",
   "execution_count": 1,
   "metadata": {
    "collapsed": true
   },
   "outputs": [],
   "source": [
    "import pandas as pd"
   ]
  },
  {
   "cell_type": "code",
   "execution_count": 2,
   "metadata": {
    "collapsed": true
   },
   "outputs": [],
   "source": [
    "path=\"../wichern_data/\"\n",
    "t=pd.read_csv(path+'T1-8.dat', sep='\\s+', header=None, skiprows=0);\n",
    "t=t.rename(columns={0:'100m_s', 1:'200m_s', 2:'400m_s', 3:'800m_min', 4:'1500m_min', 5:'3000m_min', 6:'Marathon_min'});"
   ]
  },
  {
   "cell_type": "code",
   "execution_count": 3,
   "metadata": {
    "collapsed": false
   },
   "outputs": [
    {
     "data": {
      "text/html": [
       "<div>\n",
       "<table border=\"1\" class=\"dataframe\">\n",
       "  <thead>\n",
       "    <tr style=\"text-align: right;\">\n",
       "      <th></th>\n",
       "      <th>100m_s</th>\n",
       "      <th>200m_s</th>\n",
       "      <th>400m_s</th>\n",
       "      <th>800m_min</th>\n",
       "      <th>1500m_min</th>\n",
       "      <th>3000m_min</th>\n",
       "    </tr>\n",
       "  </thead>\n",
       "  <tbody>\n",
       "    <tr>\n",
       "      <th>0</th>\n",
       "      <td>1.103</td>\n",
       "      <td>1.052</td>\n",
       "      <td>2.139</td>\n",
       "      <td>2.238</td>\n",
       "      <td>0.873</td>\n",
       "      <td>0.872</td>\n",
       "    </tr>\n",
       "    <tr>\n",
       "      <th>1</th>\n",
       "      <td>0.842</td>\n",
       "      <td>0.859</td>\n",
       "      <td>1.873</td>\n",
       "      <td>1.741</td>\n",
       "      <td>0.590</td>\n",
       "      <td>0.744</td>\n",
       "    </tr>\n",
       "    <tr>\n",
       "      <th>2</th>\n",
       "      <td>0.925</td>\n",
       "      <td>0.873</td>\n",
       "      <td>1.887</td>\n",
       "      <td>1.809</td>\n",
       "      <td>0.767</td>\n",
       "      <td>0.713</td>\n",
       "    </tr>\n",
       "    <tr>\n",
       "      <th>3</th>\n",
       "      <td>0.857</td>\n",
       "      <td>0.744</td>\n",
       "      <td>1.739</td>\n",
       "      <td>1.547</td>\n",
       "      <td>0.706</td>\n",
       "      <td>0.674</td>\n",
       "    </tr>\n",
       "    <tr>\n",
       "      <th>4</th>\n",
       "      <td>0.795</td>\n",
       "      <td>0.809</td>\n",
       "      <td>1.734</td>\n",
       "      <td>1.715</td>\n",
       "      <td>0.549</td>\n",
       "      <td>0.654</td>\n",
       "    </tr>\n",
       "  </tbody>\n",
       "</table>\n",
       "</div>"
      ],
      "text/plain": [
       "   100m_s  200m_s  400m_s  800m_min  1500m_min  3000m_min\n",
       "0   1.103   1.052   2.139     2.238      0.873      0.872\n",
       "1   0.842   0.859   1.873     1.741      0.590      0.744\n",
       "2   0.925   0.873   1.887     1.809      0.767      0.713\n",
       "3   0.857   0.744   1.739     1.547      0.706      0.674\n",
       "4   0.795   0.809   1.734     1.715      0.549      0.654"
      ]
     },
     "execution_count": 3,
     "metadata": {},
     "output_type": "execute_result"
    }
   ],
   "source": [
    "t.head()"
   ]
  },
  {
   "cell_type": "code",
   "execution_count": null,
   "metadata": {
    "collapsed": true
   },
   "outputs": [],
   "source": [
    "    "
   ]
  }
 ],
 "metadata": {
  "kernelspec": {
   "display_name": "Python 2",
   "language": "python",
   "name": "python2"
  },
  "language_info": {
   "codemirror_mode": {
    "name": "ipython",
    "version": 2
   },
   "file_extension": ".py",
   "mimetype": "text/x-python",
   "name": "python",
   "nbconvert_exporter": "python",
   "pygments_lexer": "ipython2",
   "version": "2.7.11"
  }
 },
 "nbformat": 4,
 "nbformat_minor": 0
}
