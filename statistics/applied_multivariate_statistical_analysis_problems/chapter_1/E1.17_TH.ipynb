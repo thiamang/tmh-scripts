{
 "cells": [
  {
   "cell_type": "code",
   "execution_count": 1,
   "metadata": {
    "collapsed": true
   },
   "outputs": [],
   "source": [
    "import pandas as pd"
   ]
  },
  {
   "cell_type": "code",
   "execution_count": 2,
   "metadata": {
    "collapsed": true
   },
   "outputs": [],
   "source": [
    "path=\"../wichern_data/\"\n",
    "t=pd.read_csv(path+'T1-8.dat', sep='\\s+', header=None, skiprows=0);\n",
    "t=t.rename(columns={0:'100m_s', 1:'200m_s', 2:'400m_s', 3:'800m_min', 4:'1500m_min', 5:'3000m_min', 6:'Marathon_min'});"
   ]
  },
  {
   "cell_type": "code",
   "execution_count": 3,
   "metadata": {
    "collapsed": false
   },
   "outputs": [
    {
     "data": {
      "text/html": [
       "<div>\n",
       "<table border=\"1\" class=\"dataframe\">\n",
       "  <thead>\n",
       "    <tr style=\"text-align: right;\">\n",
       "      <th></th>\n",
       "      <th>100m_s</th>\n",
       "      <th>200m_s</th>\n",
       "      <th>400m_s</th>\n",
       "      <th>800m_min</th>\n",
       "      <th>1500m_min</th>\n",
       "      <th>3000m_min</th>\n",
       "    </tr>\n",
       "  </thead>\n",
       "  <tbody>\n",
       "    <tr>\n",
       "      <th>0</th>\n",
       "      <td>1.103</td>\n",
       "      <td>1.052</td>\n",
       "      <td>2.139</td>\n",
       "      <td>2.238</td>\n",
       "      <td>0.873</td>\n",
       "      <td>0.872</td>\n",
       "    </tr>\n",
       "    <tr>\n",
       "      <th>1</th>\n",
       "      <td>0.842</td>\n",
       "      <td>0.859</td>\n",
       "      <td>1.873</td>\n",
       "      <td>1.741</td>\n",
       "      <td>0.590</td>\n",
       "      <td>0.744</td>\n",
       "    </tr>\n",
       "    <tr>\n",
       "      <th>2</th>\n",
       "      <td>0.925</td>\n",
       "      <td>0.873</td>\n",
       "      <td>1.887</td>\n",
       "      <td>1.809</td>\n",
       "      <td>0.767</td>\n",
       "      <td>0.713</td>\n",
       "    </tr>\n",
       "    <tr>\n",
       "      <th>3</th>\n",
       "      <td>0.857</td>\n",
       "      <td>0.744</td>\n",
       "      <td>1.739</td>\n",
       "      <td>1.547</td>\n",
       "      <td>0.706</td>\n",
       "      <td>0.674</td>\n",
       "    </tr>\n",
       "    <tr>\n",
       "      <th>4</th>\n",
       "      <td>0.795</td>\n",
       "      <td>0.809</td>\n",
       "      <td>1.734</td>\n",
       "      <td>1.715</td>\n",
       "      <td>0.549</td>\n",
       "      <td>0.654</td>\n",
       "    </tr>\n",
       "  </tbody>\n",
       "</table>\n",
       "</div>"
      ],
      "text/plain": [
       "   100m_s  200m_s  400m_s  800m_min  1500m_min  3000m_min\n",
       "0   1.103   1.052   2.139     2.238      0.873      0.872\n",
       "1   0.842   0.859   1.873     1.741      0.590      0.744\n",
       "2   0.925   0.873   1.887     1.809      0.767      0.713\n",
       "3   0.857   0.744   1.739     1.547      0.706      0.674\n",
       "4   0.795   0.809   1.734     1.715      0.549      0.654"
      ]
     },
     "execution_count": 3,
     "metadata": {},
     "output_type": "execute_result"
    }
   ],
   "source": [
    "t.head()"
   ]
  },
  {
   "cell_type": "code",
   "execution_count": 4,
   "metadata": {
    "collapsed": false
   },
   "outputs": [
    {
     "data": {
      "text/plain": [
       "100m_s       0.84380\n",
       "200m_s       0.81832\n",
       "400m_s       1.79268\n",
       "800m_min     1.73484\n",
       "1500m_min    0.70440\n",
       "3000m_min    0.69384\n",
       "dtype: float64"
      ]
     },
     "execution_count": 4,
     "metadata": {},
     "output_type": "execute_result"
    }
   ],
   "source": [
    "t.mean()"
   ]
  },
  {
   "cell_type": "code",
   "execution_count": 5,
   "metadata": {
    "collapsed": false
   },
   "outputs": [
    {
     "data": {
      "text/html": [
       "<div>\n",
       "<table border=\"1\" class=\"dataframe\">\n",
       "  <thead>\n",
       "    <tr style=\"text-align: right;\">\n",
       "      <th></th>\n",
       "      <th>100m_s</th>\n",
       "      <th>200m_s</th>\n",
       "      <th>400m_s</th>\n",
       "      <th>800m_min</th>\n",
       "      <th>1500m_min</th>\n",
       "      <th>3000m_min</th>\n",
       "    </tr>\n",
       "  </thead>\n",
       "  <tbody>\n",
       "    <tr>\n",
       "      <th>100m_s</th>\n",
       "      <td>0.013002</td>\n",
       "      <td>0.010378</td>\n",
       "      <td>0.022350</td>\n",
       "      <td>0.020086</td>\n",
       "      <td>0.009121</td>\n",
       "      <td>0.007958</td>\n",
       "    </tr>\n",
       "    <tr>\n",
       "      <th>200m_s</th>\n",
       "      <td>0.010378</td>\n",
       "      <td>0.011418</td>\n",
       "      <td>0.018535</td>\n",
       "      <td>0.021100</td>\n",
       "      <td>0.008530</td>\n",
       "      <td>0.008909</td>\n",
       "    </tr>\n",
       "    <tr>\n",
       "      <th>400m_s</th>\n",
       "      <td>0.022350</td>\n",
       "      <td>0.018535</td>\n",
       "      <td>0.080357</td>\n",
       "      <td>0.066776</td>\n",
       "      <td>0.016837</td>\n",
       "      <td>0.012847</td>\n",
       "    </tr>\n",
       "    <tr>\n",
       "      <th>800m_min</th>\n",
       "      <td>0.020086</td>\n",
       "      <td>0.021100</td>\n",
       "      <td>0.066776</td>\n",
       "      <td>0.069484</td>\n",
       "      <td>0.017735</td>\n",
       "      <td>0.016794</td>\n",
       "    </tr>\n",
       "    <tr>\n",
       "      <th>1500m_min</th>\n",
       "      <td>0.009121</td>\n",
       "      <td>0.008530</td>\n",
       "      <td>0.016837</td>\n",
       "      <td>0.017735</td>\n",
       "      <td>0.011568</td>\n",
       "      <td>0.008071</td>\n",
       "    </tr>\n",
       "    <tr>\n",
       "      <th>3000m_min</th>\n",
       "      <td>0.007958</td>\n",
       "      <td>0.008909</td>\n",
       "      <td>0.012847</td>\n",
       "      <td>0.016794</td>\n",
       "      <td>0.008071</td>\n",
       "      <td>0.010599</td>\n",
       "    </tr>\n",
       "  </tbody>\n",
       "</table>\n",
       "</div>"
      ],
      "text/plain": [
       "             100m_s    200m_s    400m_s  800m_min  1500m_min  3000m_min\n",
       "100m_s     0.013002  0.010378  0.022350  0.020086   0.009121   0.007958\n",
       "200m_s     0.010378  0.011418  0.018535  0.021100   0.008530   0.008909\n",
       "400m_s     0.022350  0.018535  0.080357  0.066776   0.016837   0.012847\n",
       "800m_min   0.020086  0.021100  0.066776  0.069484   0.017735   0.016794\n",
       "1500m_min  0.009121  0.008530  0.016837  0.017735   0.011568   0.008071\n",
       "3000m_min  0.007958  0.008909  0.012847  0.016794   0.008071   0.010599"
      ]
     },
     "execution_count": 5,
     "metadata": {},
     "output_type": "execute_result"
    }
   ],
   "source": [
    "t.cov()"
   ]
  },
  {
   "cell_type": "code",
   "execution_count": 6,
   "metadata": {
    "collapsed": false
   },
   "outputs": [
    {
     "data": {
      "text/html": [
       "<div>\n",
       "<table border=\"1\" class=\"dataframe\">\n",
       "  <thead>\n",
       "    <tr style=\"text-align: right;\">\n",
       "      <th></th>\n",
       "      <th>100m_s</th>\n",
       "      <th>200m_s</th>\n",
       "      <th>400m_s</th>\n",
       "      <th>800m_min</th>\n",
       "      <th>1500m_min</th>\n",
       "      <th>3000m_min</th>\n",
       "    </tr>\n",
       "  </thead>\n",
       "  <tbody>\n",
       "    <tr>\n",
       "      <th>100m_s</th>\n",
       "      <td>1.000000</td>\n",
       "      <td>0.851807</td>\n",
       "      <td>0.691459</td>\n",
       "      <td>0.668258</td>\n",
       "      <td>0.743693</td>\n",
       "      <td>0.677894</td>\n",
       "    </tr>\n",
       "    <tr>\n",
       "      <th>200m_s</th>\n",
       "      <td>0.851807</td>\n",
       "      <td>1.000000</td>\n",
       "      <td>0.611916</td>\n",
       "      <td>0.749093</td>\n",
       "      <td>0.742178</td>\n",
       "      <td>0.809798</td>\n",
       "    </tr>\n",
       "    <tr>\n",
       "      <th>400m_s</th>\n",
       "      <td>0.691459</td>\n",
       "      <td>0.611916</td>\n",
       "      <td>1.000000</td>\n",
       "      <td>0.893646</td>\n",
       "      <td>0.552222</td>\n",
       "      <td>0.440205</td>\n",
       "    </tr>\n",
       "    <tr>\n",
       "      <th>800m_min</th>\n",
       "      <td>0.668258</td>\n",
       "      <td>0.749093</td>\n",
       "      <td>0.893646</td>\n",
       "      <td>1.000000</td>\n",
       "      <td>0.625550</td>\n",
       "      <td>0.618820</td>\n",
       "    </tr>\n",
       "    <tr>\n",
       "      <th>1500m_min</th>\n",
       "      <td>0.743693</td>\n",
       "      <td>0.742178</td>\n",
       "      <td>0.552222</td>\n",
       "      <td>0.625550</td>\n",
       "      <td>1.000000</td>\n",
       "      <td>0.728892</td>\n",
       "    </tr>\n",
       "    <tr>\n",
       "      <th>3000m_min</th>\n",
       "      <td>0.677894</td>\n",
       "      <td>0.809798</td>\n",
       "      <td>0.440205</td>\n",
       "      <td>0.618820</td>\n",
       "      <td>0.728892</td>\n",
       "      <td>1.000000</td>\n",
       "    </tr>\n",
       "  </tbody>\n",
       "</table>\n",
       "</div>"
      ],
      "text/plain": [
       "             100m_s    200m_s    400m_s  800m_min  1500m_min  3000m_min\n",
       "100m_s     1.000000  0.851807  0.691459  0.668258   0.743693   0.677894\n",
       "200m_s     0.851807  1.000000  0.611916  0.749093   0.742178   0.809798\n",
       "400m_s     0.691459  0.611916  1.000000  0.893646   0.552222   0.440205\n",
       "800m_min   0.668258  0.749093  0.893646  1.000000   0.625550   0.618820\n",
       "1500m_min  0.743693  0.742178  0.552222  0.625550   1.000000   0.728892\n",
       "3000m_min  0.677894  0.809798  0.440205  0.618820   0.728892   1.000000"
      ]
     },
     "execution_count": 6,
     "metadata": {},
     "output_type": "execute_result"
    }
   ],
   "source": [
    "t.corr()"
   ]
  },
  {
   "cell_type": "code",
   "execution_count": null,
   "metadata": {
    "collapsed": true
   },
   "outputs": [],
   "source": []
  }
 ],
 "metadata": {
  "kernelspec": {
   "display_name": "Python 2",
   "language": "python",
   "name": "python2"
  },
  "language_info": {
   "codemirror_mode": {
    "name": "ipython",
    "version": 2
   },
   "file_extension": ".py",
   "mimetype": "text/x-python",
   "name": "python",
   "nbconvert_exporter": "python",
   "pygments_lexer": "ipython2",
   "version": "2.7.11"
  }
 },
 "nbformat": 4,
 "nbformat_minor": 0
}
