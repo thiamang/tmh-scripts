{
 "cells": [
  {
   "cell_type": "code",
   "execution_count": 2,
   "metadata": {
    "collapsed": true
   },
   "outputs": [],
   "source": [
    "import pandas as pd\n",
    "import numpy as np\n",
    "import matplotlib.pyplot as plt\n",
    "%matplotlib inline"
   ]
  },
  {
   "cell_type": "code",
   "execution_count": 3,
   "metadata": {
    "collapsed": true
   },
   "outputs": [],
   "source": [
    "path=\"../wichern_data/\"\n",
    "t=pd.read_csv(path+'T1-8.dat', sep='\\s+', header=None, skiprows=0);\n",
    "t=t.rename(columns={0:'Dominant_Radius', 1:'Radius', 2:'Dominant_Humerus', 3:'Humerus', 4:'Dominant_Ulna', 5:'Ulna'});"
   ]
  },
  {
   "cell_type": "code",
   "execution_count": 4,
   "metadata": {
    "collapsed": false
   },
   "outputs": [
    {
     "data": {
      "text/html": [
       "<div>\n",
       "<table border=\"1\" class=\"dataframe\">\n",
       "  <thead>\n",
       "    <tr style=\"text-align: right;\">\n",
       "      <th></th>\n",
       "      <th>Dominant_Radius</th>\n",
       "      <th>Radius</th>\n",
       "      <th>Dominant_Humerus</th>\n",
       "      <th>Humerus</th>\n",
       "      <th>Dominant_Ulna</th>\n",
       "      <th>Ulna</th>\n",
       "    </tr>\n",
       "  </thead>\n",
       "  <tbody>\n",
       "    <tr>\n",
       "      <th>0</th>\n",
       "      <td>1.103</td>\n",
       "      <td>1.052</td>\n",
       "      <td>2.139</td>\n",
       "      <td>2.238</td>\n",
       "      <td>0.873</td>\n",
       "      <td>0.872</td>\n",
       "    </tr>\n",
       "    <tr>\n",
       "      <th>1</th>\n",
       "      <td>0.842</td>\n",
       "      <td>0.859</td>\n",
       "      <td>1.873</td>\n",
       "      <td>1.741</td>\n",
       "      <td>0.590</td>\n",
       "      <td>0.744</td>\n",
       "    </tr>\n",
       "    <tr>\n",
       "      <th>2</th>\n",
       "      <td>0.925</td>\n",
       "      <td>0.873</td>\n",
       "      <td>1.887</td>\n",
       "      <td>1.809</td>\n",
       "      <td>0.767</td>\n",
       "      <td>0.713</td>\n",
       "    </tr>\n",
       "    <tr>\n",
       "      <th>3</th>\n",
       "      <td>0.857</td>\n",
       "      <td>0.744</td>\n",
       "      <td>1.739</td>\n",
       "      <td>1.547</td>\n",
       "      <td>0.706</td>\n",
       "      <td>0.674</td>\n",
       "    </tr>\n",
       "    <tr>\n",
       "      <th>4</th>\n",
       "      <td>0.795</td>\n",
       "      <td>0.809</td>\n",
       "      <td>1.734</td>\n",
       "      <td>1.715</td>\n",
       "      <td>0.549</td>\n",
       "      <td>0.654</td>\n",
       "    </tr>\n",
       "  </tbody>\n",
       "</table>\n",
       "</div>"
      ],
      "text/plain": [
       "   Dominant_Radius  Radius  Dominant_Humerus  Humerus  Dominant_Ulna   Ulna\n",
       "0            1.103   1.052             2.139    2.238          0.873  0.872\n",
       "1            0.842   0.859             1.873    1.741          0.590  0.744\n",
       "2            0.925   0.873             1.887    1.809          0.767  0.713\n",
       "3            0.857   0.744             1.739    1.547          0.706  0.674\n",
       "4            0.795   0.809             1.734    1.715          0.549  0.654"
      ]
     },
     "execution_count": 4,
     "metadata": {},
     "output_type": "execute_result"
    }
   ],
   "source": [
    "t.head()"
   ]
  },
  {
   "cell_type": "code",
   "execution_count": 5,
   "metadata": {
    "collapsed": false
   },
   "outputs": [
    {
     "data": {
      "text/html": [
       "<div>\n",
       "<table border=\"1\" class=\"dataframe\">\n",
       "  <thead>\n",
       "    <tr style=\"text-align: right;\">\n",
       "      <th></th>\n",
       "      <th>Dominant_Radius</th>\n",
       "      <th>Radius</th>\n",
       "      <th>Dominant_Humerus</th>\n",
       "      <th>Humerus</th>\n",
       "      <th>Dominant_Ulna</th>\n",
       "      <th>Ulna</th>\n",
       "    </tr>\n",
       "  </thead>\n",
       "  <tbody>\n",
       "    <tr>\n",
       "      <th>0</th>\n",
       "      <td>0.8438</td>\n",
       "      <td>0.81832</td>\n",
       "      <td>1.79268</td>\n",
       "      <td>1.73484</td>\n",
       "      <td>0.7044</td>\n",
       "      <td>0.69384</td>\n",
       "    </tr>\n",
       "  </tbody>\n",
       "</table>\n",
       "</div>"
      ],
      "text/plain": [
       "   Dominant_Radius   Radius  Dominant_Humerus  Humerus  Dominant_Ulna     Ulna\n",
       "0           0.8438  0.81832           1.79268  1.73484         0.7044  0.69384"
      ]
     },
     "execution_count": 5,
     "metadata": {},
     "output_type": "execute_result"
    }
   ],
   "source": [
    "pd.DataFrame([np.mean(t)])"
   ]
  },
  {
   "cell_type": "code",
   "execution_count": 6,
   "metadata": {
    "collapsed": false
   },
   "outputs": [
    {
     "data": {
      "text/html": [
       "<div>\n",
       "<table border=\"1\" class=\"dataframe\">\n",
       "  <thead>\n",
       "    <tr style=\"text-align: right;\">\n",
       "      <th></th>\n",
       "      <th>Dominant_Radius</th>\n",
       "      <th>Radius</th>\n",
       "      <th>Dominant_Humerus</th>\n",
       "      <th>Humerus</th>\n",
       "      <th>Dominant_Ulna</th>\n",
       "      <th>Ulna</th>\n",
       "    </tr>\n",
       "  </thead>\n",
       "  <tbody>\n",
       "    <tr>\n",
       "      <th>Dominant_Radius</th>\n",
       "      <td>0.013002</td>\n",
       "      <td>0.010378</td>\n",
       "      <td>0.022350</td>\n",
       "      <td>0.020086</td>\n",
       "      <td>0.009121</td>\n",
       "      <td>0.007958</td>\n",
       "    </tr>\n",
       "    <tr>\n",
       "      <th>Radius</th>\n",
       "      <td>0.010378</td>\n",
       "      <td>0.011418</td>\n",
       "      <td>0.018535</td>\n",
       "      <td>0.021100</td>\n",
       "      <td>0.008530</td>\n",
       "      <td>0.008909</td>\n",
       "    </tr>\n",
       "    <tr>\n",
       "      <th>Dominant_Humerus</th>\n",
       "      <td>0.022350</td>\n",
       "      <td>0.018535</td>\n",
       "      <td>0.080357</td>\n",
       "      <td>0.066776</td>\n",
       "      <td>0.016837</td>\n",
       "      <td>0.012847</td>\n",
       "    </tr>\n",
       "    <tr>\n",
       "      <th>Humerus</th>\n",
       "      <td>0.020086</td>\n",
       "      <td>0.021100</td>\n",
       "      <td>0.066776</td>\n",
       "      <td>0.069484</td>\n",
       "      <td>0.017735</td>\n",
       "      <td>0.016794</td>\n",
       "    </tr>\n",
       "    <tr>\n",
       "      <th>Dominant_Ulna</th>\n",
       "      <td>0.009121</td>\n",
       "      <td>0.008530</td>\n",
       "      <td>0.016837</td>\n",
       "      <td>0.017735</td>\n",
       "      <td>0.011568</td>\n",
       "      <td>0.008071</td>\n",
       "    </tr>\n",
       "    <tr>\n",
       "      <th>Ulna</th>\n",
       "      <td>0.007958</td>\n",
       "      <td>0.008909</td>\n",
       "      <td>0.012847</td>\n",
       "      <td>0.016794</td>\n",
       "      <td>0.008071</td>\n",
       "      <td>0.010599</td>\n",
       "    </tr>\n",
       "  </tbody>\n",
       "</table>\n",
       "</div>"
      ],
      "text/plain": [
       "                  Dominant_Radius    Radius  Dominant_Humerus   Humerus  \\\n",
       "Dominant_Radius          0.013002  0.010378          0.022350  0.020086   \n",
       "Radius                   0.010378  0.011418          0.018535  0.021100   \n",
       "Dominant_Humerus         0.022350  0.018535          0.080357  0.066776   \n",
       "Humerus                  0.020086  0.021100          0.066776  0.069484   \n",
       "Dominant_Ulna            0.009121  0.008530          0.016837  0.017735   \n",
       "Ulna                     0.007958  0.008909          0.012847  0.016794   \n",
       "\n",
       "                  Dominant_Ulna      Ulna  \n",
       "Dominant_Radius        0.009121  0.007958  \n",
       "Radius                 0.008530  0.008909  \n",
       "Dominant_Humerus       0.016837  0.012847  \n",
       "Humerus                0.017735  0.016794  \n",
       "Dominant_Ulna          0.011568  0.008071  \n",
       "Ulna                   0.008071  0.010599  "
      ]
     },
     "execution_count": 6,
     "metadata": {},
     "output_type": "execute_result"
    }
   ],
   "source": [
    "t.cov()"
   ]
  },
  {
   "cell_type": "code",
   "execution_count": 7,
   "metadata": {
    "collapsed": false
   },
   "outputs": [
    {
     "data": {
      "text/html": [
       "<div>\n",
       "<table border=\"1\" class=\"dataframe\">\n",
       "  <thead>\n",
       "    <tr style=\"text-align: right;\">\n",
       "      <th></th>\n",
       "      <th>Dominant_Radius</th>\n",
       "      <th>Radius</th>\n",
       "      <th>Dominant_Humerus</th>\n",
       "      <th>Humerus</th>\n",
       "      <th>Dominant_Ulna</th>\n",
       "      <th>Ulna</th>\n",
       "    </tr>\n",
       "  </thead>\n",
       "  <tbody>\n",
       "    <tr>\n",
       "      <th>Dominant_Radius</th>\n",
       "      <td>1.000000</td>\n",
       "      <td>0.851807</td>\n",
       "      <td>0.691459</td>\n",
       "      <td>0.668258</td>\n",
       "      <td>0.743693</td>\n",
       "      <td>0.677894</td>\n",
       "    </tr>\n",
       "    <tr>\n",
       "      <th>Radius</th>\n",
       "      <td>0.851807</td>\n",
       "      <td>1.000000</td>\n",
       "      <td>0.611916</td>\n",
       "      <td>0.749093</td>\n",
       "      <td>0.742178</td>\n",
       "      <td>0.809798</td>\n",
       "    </tr>\n",
       "    <tr>\n",
       "      <th>Dominant_Humerus</th>\n",
       "      <td>0.691459</td>\n",
       "      <td>0.611916</td>\n",
       "      <td>1.000000</td>\n",
       "      <td>0.893646</td>\n",
       "      <td>0.552222</td>\n",
       "      <td>0.440205</td>\n",
       "    </tr>\n",
       "    <tr>\n",
       "      <th>Humerus</th>\n",
       "      <td>0.668258</td>\n",
       "      <td>0.749093</td>\n",
       "      <td>0.893646</td>\n",
       "      <td>1.000000</td>\n",
       "      <td>0.625550</td>\n",
       "      <td>0.618820</td>\n",
       "    </tr>\n",
       "    <tr>\n",
       "      <th>Dominant_Ulna</th>\n",
       "      <td>0.743693</td>\n",
       "      <td>0.742178</td>\n",
       "      <td>0.552222</td>\n",
       "      <td>0.625550</td>\n",
       "      <td>1.000000</td>\n",
       "      <td>0.728892</td>\n",
       "    </tr>\n",
       "    <tr>\n",
       "      <th>Ulna</th>\n",
       "      <td>0.677894</td>\n",
       "      <td>0.809798</td>\n",
       "      <td>0.440205</td>\n",
       "      <td>0.618820</td>\n",
       "      <td>0.728892</td>\n",
       "      <td>1.000000</td>\n",
       "    </tr>\n",
       "  </tbody>\n",
       "</table>\n",
       "</div>"
      ],
      "text/plain": [
       "                  Dominant_Radius    Radius  Dominant_Humerus   Humerus  \\\n",
       "Dominant_Radius          1.000000  0.851807          0.691459  0.668258   \n",
       "Radius                   0.851807  1.000000          0.611916  0.749093   \n",
       "Dominant_Humerus         0.691459  0.611916          1.000000  0.893646   \n",
       "Humerus                  0.668258  0.749093          0.893646  1.000000   \n",
       "Dominant_Ulna            0.743693  0.742178          0.552222  0.625550   \n",
       "Ulna                     0.677894  0.809798          0.440205  0.618820   \n",
       "\n",
       "                  Dominant_Ulna      Ulna  \n",
       "Dominant_Radius        0.743693  0.677894  \n",
       "Radius                 0.742178  0.809798  \n",
       "Dominant_Humerus       0.552222  0.440205  \n",
       "Humerus                0.625550  0.618820  \n",
       "Dominant_Ulna          1.000000  0.728892  \n",
       "Ulna                   0.728892  1.000000  "
      ]
     },
     "execution_count": 7,
     "metadata": {},
     "output_type": "execute_result"
    }
   ],
   "source": [
    "t.corr()"
   ]
  },
  {
   "cell_type": "code",
   "execution_count": null,
   "metadata": {
    "collapsed": true
   },
   "outputs": [],
   "source": []
  }
 ],
 "metadata": {
  "kernelspec": {
   "display_name": "Python 2",
   "language": "python",
   "name": "python2"
  },
  "language_info": {
   "codemirror_mode": {
    "name": "ipython",
    "version": 2
   },
   "file_extension": ".py",
   "mimetype": "text/x-python",
   "name": "python",
   "nbconvert_exporter": "python",
   "pygments_lexer": "ipython2",
   "version": "2.7.11"
  }
 },
 "nbformat": 4,
 "nbformat_minor": 0
}
