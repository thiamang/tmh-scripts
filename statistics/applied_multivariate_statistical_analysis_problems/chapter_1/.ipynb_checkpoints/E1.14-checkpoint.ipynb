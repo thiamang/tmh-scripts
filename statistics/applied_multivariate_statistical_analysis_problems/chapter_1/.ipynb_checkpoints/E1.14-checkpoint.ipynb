{
 "cells": [
  {
   "cell_type": "code",
   "execution_count": 1,
   "metadata": {
    "collapsed": true
   },
   "outputs": [],
   "source": [
    "import pandas as pd"
   ]
  },
  {
   "cell_type": "code",
   "execution_count": 5,
   "metadata": {
    "collapsed": false
   },
   "outputs": [],
   "source": [
    "path=\"/Users/thiamang/Documents/github/personal/tmh-scripts/statistics/applied_multivariate_statistical_analysis_problems/wichern_data/\"\n",
    "t=pd.read_csv(path+'T1-6.dat', sep='\\s+', header=None, skiprows=0);\n",
    "t=t.rename(columns={0:'subject_number', 1:'Age', 2:'S1LplusS1R', 3:'S1LminusS1R', 4:'S2LplusS2R', 5:'S2LminusS2R'});"
   ]
  },
  {
   "cell_type": "code",
   "execution_count": 6,
   "metadata": {
    "collapsed": false
   },
   "outputs": [
    {
     "data": {
      "text/html": [
       "<div>\n",
       "<table border=\"1\" class=\"dataframe\">\n",
       "  <thead>\n",
       "    <tr style=\"text-align: right;\">\n",
       "      <th></th>\n",
       "      <th>subject_number</th>\n",
       "      <th>Age</th>\n",
       "      <th>S1LplusS1R</th>\n",
       "      <th>S1LminusS1R</th>\n",
       "      <th>S2LplusS2R</th>\n",
       "      <th>S2LminusS2R</th>\n",
       "    </tr>\n",
       "  </thead>\n",
       "  <tbody>\n",
       "    <tr>\n",
       "      <th>0</th>\n",
       "      <td>18</td>\n",
       "      <td>152.0</td>\n",
       "      <td>1.6</td>\n",
       "      <td>198.4</td>\n",
       "      <td>0.0</td>\n",
       "      <td>0</td>\n",
       "    </tr>\n",
       "    <tr>\n",
       "      <th>1</th>\n",
       "      <td>19</td>\n",
       "      <td>138.0</td>\n",
       "      <td>0.4</td>\n",
       "      <td>180.8</td>\n",
       "      <td>1.6</td>\n",
       "      <td>0</td>\n",
       "    </tr>\n",
       "    <tr>\n",
       "      <th>2</th>\n",
       "      <td>20</td>\n",
       "      <td>144.0</td>\n",
       "      <td>0.0</td>\n",
       "      <td>186.4</td>\n",
       "      <td>0.8</td>\n",
       "      <td>0</td>\n",
       "    </tr>\n",
       "    <tr>\n",
       "      <th>3</th>\n",
       "      <td>20</td>\n",
       "      <td>143.6</td>\n",
       "      <td>3.2</td>\n",
       "      <td>194.8</td>\n",
       "      <td>0.0</td>\n",
       "      <td>0</td>\n",
       "    </tr>\n",
       "    <tr>\n",
       "      <th>4</th>\n",
       "      <td>20</td>\n",
       "      <td>148.8</td>\n",
       "      <td>0.0</td>\n",
       "      <td>217.6</td>\n",
       "      <td>0.0</td>\n",
       "      <td>0</td>\n",
       "    </tr>\n",
       "  </tbody>\n",
       "</table>\n",
       "</div>"
      ],
      "text/plain": [
       "   subject_number    Age  S1LplusS1R  S1LminusS1R  S2LplusS2R  S2LminusS2R\n",
       "0              18  152.0         1.6        198.4         0.0            0\n",
       "1              19  138.0         0.4        180.8         1.6            0\n",
       "2              20  144.0         0.0        186.4         0.8            0\n",
       "3              20  143.6         3.2        194.8         0.0            0\n",
       "4              20  148.8         0.0        217.6         0.0            0"
      ]
     },
     "execution_count": 6,
     "metadata": {},
     "output_type": "execute_result"
    }
   ],
   "source": [
    "t.head()"
   ]
  },
  {
   "cell_type": "code",
   "execution_count": null,
   "metadata": {
    "collapsed": true
   },
   "outputs": [],
   "source": []
  }
 ],
 "metadata": {
  "kernelspec": {
   "display_name": "Python 2",
   "language": "python",
   "name": "python2"
  },
  "language_info": {
   "codemirror_mode": {
    "name": "ipython",
    "version": 2
   },
   "file_extension": ".py",
   "mimetype": "text/x-python",
   "name": "python",
   "nbconvert_exporter": "python",
   "pygments_lexer": "ipython2",
   "version": "2.7.11"
  }
 },
 "nbformat": 4,
 "nbformat_minor": 0
}
