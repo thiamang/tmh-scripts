{
 "cells": [
  {
   "cell_type": "code",
   "execution_count": 1,
   "metadata": {
    "collapsed": false
   },
   "outputs": [],
   "source": [
    "import pandas as pd\n",
    "import numpy as np\n",
    "import matplotlib.pyplot as plt\n",
    "%matplotlib inline"
   ]
  },
  {
   "cell_type": "code",
   "execution_count": 2,
   "metadata": {
    "collapsed": false
   },
   "outputs": [],
   "source": [
    "path=\"../wichern_data/\"\n",
    "t=pd.read_csv(path+'T1-6.dat', sep='\\s+', header=None, skiprows=0);\n",
    "t=t.rename(columns={0:'Age', 1:'S1LplusS1R', 2:'S1LminusS1R', 3:'S2LplusS2R', 4:'S2LminusS2R', 5:'split'});"
   ]
  },
  {
   "cell_type": "code",
   "execution_count": 3,
   "metadata": {
    "collapsed": false
   },
   "outputs": [
    {
     "data": {
      "text/html": [
       "<div>\n",
       "<table border=\"1\" class=\"dataframe\">\n",
       "  <thead>\n",
       "    <tr style=\"text-align: right;\">\n",
       "      <th></th>\n",
       "      <th>Age</th>\n",
       "      <th>S1LplusS1R</th>\n",
       "      <th>S1LminusS1R</th>\n",
       "      <th>S2LplusS2R</th>\n",
       "      <th>S2LminusS2R</th>\n",
       "      <th>split</th>\n",
       "    </tr>\n",
       "  </thead>\n",
       "  <tbody>\n",
       "    <tr>\n",
       "      <th>0</th>\n",
       "      <td>18</td>\n",
       "      <td>152.0</td>\n",
       "      <td>1.6</td>\n",
       "      <td>198.4</td>\n",
       "      <td>0.0</td>\n",
       "      <td>0</td>\n",
       "    </tr>\n",
       "    <tr>\n",
       "      <th>1</th>\n",
       "      <td>19</td>\n",
       "      <td>138.0</td>\n",
       "      <td>0.4</td>\n",
       "      <td>180.8</td>\n",
       "      <td>1.6</td>\n",
       "      <td>0</td>\n",
       "    </tr>\n",
       "    <tr>\n",
       "      <th>2</th>\n",
       "      <td>20</td>\n",
       "      <td>144.0</td>\n",
       "      <td>0.0</td>\n",
       "      <td>186.4</td>\n",
       "      <td>0.8</td>\n",
       "      <td>0</td>\n",
       "    </tr>\n",
       "    <tr>\n",
       "      <th>3</th>\n",
       "      <td>20</td>\n",
       "      <td>143.6</td>\n",
       "      <td>3.2</td>\n",
       "      <td>194.8</td>\n",
       "      <td>0.0</td>\n",
       "      <td>0</td>\n",
       "    </tr>\n",
       "    <tr>\n",
       "      <th>4</th>\n",
       "      <td>20</td>\n",
       "      <td>148.8</td>\n",
       "      <td>0.0</td>\n",
       "      <td>217.6</td>\n",
       "      <td>0.0</td>\n",
       "      <td>0</td>\n",
       "    </tr>\n",
       "  </tbody>\n",
       "</table>\n",
       "</div>"
      ],
      "text/plain": [
       "   Age  S1LplusS1R  S1LminusS1R  S2LplusS2R  S2LminusS2R  split\n",
       "0   18       152.0          1.6       198.4          0.0      0\n",
       "1   19       138.0          0.4       180.8          1.6      0\n",
       "2   20       144.0          0.0       186.4          0.8      0\n",
       "3   20       143.6          3.2       194.8          0.0      0\n",
       "4   20       148.8          0.0       217.6          0.0      0"
      ]
     },
     "execution_count": 3,
     "metadata": {},
     "output_type": "execute_result"
    }
   ],
   "source": [
    "t.head()  # Take a look at the data"
   ]
  },
  {
   "cell_type": "code",
   "execution_count": 4,
   "metadata": {
    "collapsed": false
   },
   "outputs": [
    {
     "data": {
      "image/png": "[encoded data removed]",
      "text/plain": [
       "<matplotlib.figure.Figure at 0x10bf09c50>"
      ]
     },
     "metadata": {},
     "output_type": "display_data"
    }
   ],
   "source": [
    "plt.scatter(t[t.split==1].S1LplusS1R, t[t.split==1].S2LplusS2R, alpha=0.5)\n",
    "plt.xlabel('S1LplusS1R')\n",
    "plt.ylabel('S2LplusS2R')\n",
    "plt.show()\n",
    "#Comment - There is a positive linear relationship between x2 and x4"
   ]
  },
  {
   "cell_type": "code",
   "execution_count": 5,
   "metadata": {
    "collapsed": false
   },
   "outputs": [
    {
     "data": {
      "image/png": "[encoded data removed]",
      "text/plain": [
       "<matplotlib.figure.Figure at 0x10c041b90>"
      ]
     },
     "metadata": {},
     "output_type": "display_data"
    }
   ],
   "source": [
    "plt.scatter(t[t.split==0].S1LplusS1R, t[t.split==0].S2LplusS2R, alpha=0.5)\n",
    "plt.xlabel('S1LplusS1R')\n",
    "plt.ylabel('S2LplusS2R')\n",
    "plt.show()\n",
    "#Relationship doesnt look too correlated here. Need to investigate"
   ]
  },
  {
   "cell_type": "code",
   "execution_count": 6,
   "metadata": {
    "collapsed": false
   },
   "outputs": [
    {
     "data": {
      "text/html": [
       "<div>\n",
       "<table border=\"1\" class=\"dataframe\">\n",
       "  <thead>\n",
       "    <tr style=\"text-align: right;\">\n",
       "      <th></th>\n",
       "      <th>Age</th>\n",
       "      <th>S1LplusS1R</th>\n",
       "      <th>S1LminusS1R</th>\n",
       "      <th>S2LplusS2R</th>\n",
       "      <th>S2LminusS2R</th>\n",
       "      <th>split</th>\n",
       "    </tr>\n",
       "  </thead>\n",
       "  <tbody>\n",
       "    <tr>\n",
       "      <th>0</th>\n",
       "      <td>37.985507</td>\n",
       "      <td>147.289855</td>\n",
       "      <td>1.562319</td>\n",
       "      <td>195.602899</td>\n",
       "      <td>1.620290</td>\n",
       "      <td>0</td>\n",
       "    </tr>\n",
       "    <tr>\n",
       "      <th>1</th>\n",
       "      <td>42.068966</td>\n",
       "      <td>178.268966</td>\n",
       "      <td>12.275862</td>\n",
       "      <td>236.931034</td>\n",
       "      <td>13.082759</td>\n",
       "      <td>1</td>\n",
       "    </tr>\n",
       "  </tbody>\n",
       "</table>\n",
       "</div>"
      ],
      "text/plain": [
       "         Age  S1LplusS1R  S1LminusS1R  S2LplusS2R  S2LminusS2R  split\n",
       "0  37.985507  147.289855     1.562319  195.602899     1.620290      0\n",
       "1  42.068966  178.268966    12.275862  236.931034    13.082759      1"
      ]
     },
     "execution_count": 6,
     "metadata": {},
     "output_type": "execute_result"
    }
   ],
   "source": [
    "pd.DataFrame([np.mean(t[t.split==0]), np.mean(t[t.split==1])])"
   ]
  },
  {
   "cell_type": "code",
   "execution_count": 9,
   "metadata": {
    "collapsed": false
   },
   "outputs": [
    {
     "data": {
      "text/html": [
       "<div>\n",
       "<table border=\"1\" class=\"dataframe\">\n",
       "  <thead>\n",
       "    <tr style=\"text-align: right;\">\n",
       "      <th></th>\n",
       "      <th>Age</th>\n",
       "      <th>S1LplusS1R</th>\n",
       "      <th>S1LminusS1R</th>\n",
       "      <th>S2LplusS2R</th>\n",
       "      <th>S2LminusS2R</th>\n",
       "      <th>split</th>\n",
       "    </tr>\n",
       "  </thead>\n",
       "  <tbody>\n",
       "    <tr>\n",
       "      <th>Age</th>\n",
       "      <td>233.106354</td>\n",
       "      <td>108.745508</td>\n",
       "      <td>7.130717</td>\n",
       "      <td>127.904944</td>\n",
       "      <td>3.517189</td>\n",
       "      <td>0.859562</td>\n",
       "    </tr>\n",
       "    <tr>\n",
       "      <th>S1LplusS1R</th>\n",
       "      <td>108.745508</td>\n",
       "      <td>524.564124</td>\n",
       "      <td>141.668630</td>\n",
       "      <td>607.740383</td>\n",
       "      <td>106.997644</td>\n",
       "      <td>6.521060</td>\n",
       "    </tr>\n",
       "    <tr>\n",
       "      <th>S1LminusS1R</th>\n",
       "      <td>7.130717</td>\n",
       "      <td>141.668630</td>\n",
       "      <td>117.007789</td>\n",
       "      <td>161.843871</td>\n",
       "      <td>112.025575</td>\n",
       "      <td>2.255186</td>\n",
       "    </tr>\n",
       "    <tr>\n",
       "      <th>S2LplusS2R</th>\n",
       "      <td>127.904944</td>\n",
       "      <td>607.740383</td>\n",
       "      <td>161.843871</td>\n",
       "      <td>830.013768</td>\n",
       "      <td>124.775679</td>\n",
       "      <td>8.699516</td>\n",
       "    </tr>\n",
       "    <tr>\n",
       "      <th>S2LminusS2R</th>\n",
       "      <td>3.517189</td>\n",
       "      <td>106.997644</td>\n",
       "      <td>112.025575</td>\n",
       "      <td>124.775679</td>\n",
       "      <td>130.641498</td>\n",
       "      <td>2.412834</td>\n",
       "    </tr>\n",
       "    <tr>\n",
       "      <th>split</th>\n",
       "      <td>0.859562</td>\n",
       "      <td>6.521060</td>\n",
       "      <td>2.255186</td>\n",
       "      <td>8.699516</td>\n",
       "      <td>2.412834</td>\n",
       "      <td>0.210499</td>\n",
       "    </tr>\n",
       "  </tbody>\n",
       "</table>\n",
       "</div>"
      ],
      "text/plain": [
       "                    Age  S1LplusS1R  S1LminusS1R  S2LplusS2R  S2LminusS2R  \\\n",
       "Age          233.106354  108.745508     7.130717  127.904944     3.517189   \n",
       "S1LplusS1R   108.745508  524.564124   141.668630  607.740383   106.997644   \n",
       "S1LminusS1R    7.130717  141.668630   117.007789  161.843871   112.025575   \n",
       "S2LplusS2R   127.904944  607.740383   161.843871  830.013768   124.775679   \n",
       "S2LminusS2R    3.517189  106.997644   112.025575  124.775679   130.641498   \n",
       "split          0.859562    6.521060     2.255186    8.699516     2.412834   \n",
       "\n",
       "                split  \n",
       "Age          0.859562  \n",
       "S1LplusS1R   6.521060  \n",
       "S1LminusS1R  2.255186  \n",
       "S2LplusS2R   8.699516  \n",
       "S2LminusS2R  2.412834  \n",
       "split        0.210499  "
      ]
     },
     "execution_count": 9,
     "metadata": {},
     "output_type": "execute_result"
    }
   ],
   "source": [
    "t.cov()"
   ]
  },
  {
   "cell_type": "code",
   "execution_count": 10,
   "metadata": {
    "collapsed": false
   },
   "outputs": [
    {
     "data": {
      "text/html": [
       "<div>\n",
       "<table border=\"1\" class=\"dataframe\">\n",
       "  <thead>\n",
       "    <tr style=\"text-align: right;\">\n",
       "      <th></th>\n",
       "      <th>Age</th>\n",
       "      <th>S1LplusS1R</th>\n",
       "      <th>S1LminusS1R</th>\n",
       "      <th>S2LplusS2R</th>\n",
       "      <th>S2LminusS2R</th>\n",
       "      <th>split</th>\n",
       "    </tr>\n",
       "  </thead>\n",
       "  <tbody>\n",
       "    <tr>\n",
       "      <th>Age</th>\n",
       "      <td>1.000000</td>\n",
       "      <td>0.310982</td>\n",
       "      <td>0.043177</td>\n",
       "      <td>0.290782</td>\n",
       "      <td>0.020155</td>\n",
       "      <td>0.122709</td>\n",
       "    </tr>\n",
       "    <tr>\n",
       "      <th>S1LplusS1R</th>\n",
       "      <td>0.310982</td>\n",
       "      <td>1.000000</td>\n",
       "      <td>0.571830</td>\n",
       "      <td>0.921035</td>\n",
       "      <td>0.408728</td>\n",
       "      <td>0.620575</td>\n",
       "    </tr>\n",
       "    <tr>\n",
       "      <th>S1LminusS1R</th>\n",
       "      <td>0.043177</td>\n",
       "      <td>0.571830</td>\n",
       "      <td>1.000000</td>\n",
       "      <td>0.519333</td>\n",
       "      <td>0.906086</td>\n",
       "      <td>0.454413</td>\n",
       "    </tr>\n",
       "    <tr>\n",
       "      <th>S2LplusS2R</th>\n",
       "      <td>0.290782</td>\n",
       "      <td>0.921035</td>\n",
       "      <td>0.519333</td>\n",
       "      <td>1.000000</td>\n",
       "      <td>0.378919</td>\n",
       "      <td>0.658154</td>\n",
       "    </tr>\n",
       "    <tr>\n",
       "      <th>S2LminusS2R</th>\n",
       "      <td>0.020155</td>\n",
       "      <td>0.408728</td>\n",
       "      <td>0.906086</td>\n",
       "      <td>0.378919</td>\n",
       "      <td>1.000000</td>\n",
       "      <td>0.460111</td>\n",
       "    </tr>\n",
       "    <tr>\n",
       "      <th>split</th>\n",
       "      <td>0.122709</td>\n",
       "      <td>0.620575</td>\n",
       "      <td>0.454413</td>\n",
       "      <td>0.658154</td>\n",
       "      <td>0.460111</td>\n",
       "      <td>1.000000</td>\n",
       "    </tr>\n",
       "  </tbody>\n",
       "</table>\n",
       "</div>"
      ],
      "text/plain": [
       "                  Age  S1LplusS1R  S1LminusS1R  S2LplusS2R  S2LminusS2R  \\\n",
       "Age          1.000000    0.310982     0.043177    0.290782     0.020155   \n",
       "S1LplusS1R   0.310982    1.000000     0.571830    0.921035     0.408728   \n",
       "S1LminusS1R  0.043177    0.571830     1.000000    0.519333     0.906086   \n",
       "S2LplusS2R   0.290782    0.921035     0.519333    1.000000     0.378919   \n",
       "S2LminusS2R  0.020155    0.408728     0.906086    0.378919     1.000000   \n",
       "split        0.122709    0.620575     0.454413    0.658154     0.460111   \n",
       "\n",
       "                split  \n",
       "Age          0.122709  \n",
       "S1LplusS1R   0.620575  \n",
       "S1LminusS1R  0.454413  \n",
       "S2LplusS2R   0.658154  \n",
       "S2LminusS2R  0.460111  \n",
       "split        1.000000  "
      ]
     },
     "execution_count": 10,
     "metadata": {},
     "output_type": "execute_result"
    }
   ],
   "source": [
    "t.corr()"
   ]
  },
  {
   "cell_type": "code",
   "execution_count": null,
   "metadata": {
    "collapsed": true
   },
   "outputs": [],
   "source": []
  }
 ],
 "metadata": {
  "kernelspec": {
   "display_name": "Python 2",
   "language": "python",
   "name": "python2"
  },
  "language_info": {
   "codemirror_mode": {
    "name": "ipython",
    "version": 2
   },
   "file_extension": ".py",
   "mimetype": "text/x-python",
   "name": "python",
   "nbconvert_exporter": "python",
   "pygments_lexer": "ipython2",
   "version": "2.7.11"
  }
 },
 "nbformat": 4,
 "nbformat_minor": 0
}
