{
 "cells": [
  {
   "cell_type": "code",
   "execution_count": 48,
   "metadata": {
    "collapsed": true
   },
   "outputs": [],
   "source": [
    "%matplotlib inline\n",
    "\n",
    "from matplotlib import pyplot as plt\n",
    "import pandas as pd\n",
    "import numpy as np\n",
    "from matplotlib.mlab import PCA as mlabPCA\n",
    "from sklearn.decomposition import PCA as sklearnPCA"
   ]
  },
  {
   "cell_type": "code",
   "execution_count": 90,
   "metadata": {
    "collapsed": false
   },
   "outputs": [],
   "source": [
    "t=pd.read_csv('/Users/tokunbohiamang/Documents/github/tmh-scripts/statistics/applied_multivariate_statistical_analysis_problems/wichern_data/T5-8.dat', sep='\\s+', header=None, skiprows=0);\n",
    "#t=t.rename(columns={0:'jp_morgan', 1:'citibank', 2:'wells_fargo', 3:'royal', 4:'exxon'});"
   ]
  },
  {
   "cell_type": "code",
   "execution_count": 91,
   "metadata": {
    "collapsed": false
   },
   "outputs": [
    {
     "data": {
      "text/html": [
       "<div>\n",
       "<table border=\"1\" class=\"dataframe\">\n",
       "  <thead>\n",
       "    <tr style=\"text-align: right;\">\n",
       "      <th></th>\n",
       "      <th>0</th>\n",
       "      <th>1</th>\n",
       "      <th>2</th>\n",
       "      <th>3</th>\n",
       "      <th>4</th>\n",
       "    </tr>\n",
       "  </thead>\n",
       "  <tbody>\n",
       "    <tr>\n",
       "      <th>count</th>\n",
       "      <td>16.000000</td>\n",
       "      <td>16.000000</td>\n",
       "      <td>16.000000</td>\n",
       "      <td>16.000000</td>\n",
       "      <td>16.000000</td>\n",
       "    </tr>\n",
       "    <tr>\n",
       "      <th>mean</th>\n",
       "      <td>3557.750000</td>\n",
       "      <td>1478.437500</td>\n",
       "      <td>2676.875000</td>\n",
       "      <td>13563.625000</td>\n",
       "      <td>800.000000</td>\n",
       "    </tr>\n",
       "    <tr>\n",
       "      <th>std</th>\n",
       "      <td>606.535022</td>\n",
       "      <td>1182.815735</td>\n",
       "      <td>1207.701557</td>\n",
       "      <td>1303.197753</td>\n",
       "      <td>474.044302</td>\n",
       "    </tr>\n",
       "    <tr>\n",
       "      <th>min</th>\n",
       "      <td>2670.000000</td>\n",
       "      <td>344.000000</td>\n",
       "      <td>1175.000000</td>\n",
       "      <td>11367.000000</td>\n",
       "      <td>161.000000</td>\n",
       "    </tr>\n",
       "    <tr>\n",
       "      <th>25%</th>\n",
       "      <td>3132.500000</td>\n",
       "      <td>852.750000</td>\n",
       "      <td>1827.750000</td>\n",
       "      <td>12606.250000</td>\n",
       "      <td>284.000000</td>\n",
       "    </tr>\n",
       "    <tr>\n",
       "      <th>50%</th>\n",
       "      <td>3487.500000</td>\n",
       "      <td>1179.500000</td>\n",
       "      <td>2428.000000</td>\n",
       "      <td>13531.000000</td>\n",
       "      <td>1049.500000</td>\n",
       "    </tr>\n",
       "    <tr>\n",
       "      <th>75%</th>\n",
       "      <td>3690.500000</td>\n",
       "      <td>1804.750000</td>\n",
       "      <td>3388.000000</td>\n",
       "      <td>14870.750000</td>\n",
       "      <td>1188.500000</td>\n",
       "    </tr>\n",
       "    <tr>\n",
       "      <th>max</th>\n",
       "      <td>5217.000000</td>\n",
       "      <td>5326.000000</td>\n",
       "      <td>4675.000000</td>\n",
       "      <td>15482.000000</td>\n",
       "      <td>1385.000000</td>\n",
       "    </tr>\n",
       "  </tbody>\n",
       "</table>\n",
       "</div>"
      ],
      "text/plain": [
       "                 0            1            2             3            4\n",
       "count    16.000000    16.000000    16.000000     16.000000    16.000000\n",
       "mean   3557.750000  1478.437500  2676.875000  13563.625000   800.000000\n",
       "std     606.535022  1182.815735  1207.701557   1303.197753   474.044302\n",
       "min    2670.000000   344.000000  1175.000000  11367.000000   161.000000\n",
       "25%    3132.500000   852.750000  1827.750000  12606.250000   284.000000\n",
       "50%    3487.500000  1179.500000  2428.000000  13531.000000  1049.500000\n",
       "75%    3690.500000  1804.750000  3388.000000  14870.750000  1188.500000\n",
       "max    5217.000000  5326.000000  4675.000000  15482.000000  1385.000000"
      ]
     },
     "execution_count": 91,
     "metadata": {},
     "output_type": "execute_result"
    }
   ],
   "source": [
    "t.describe()"
   ]
  },
  {
   "cell_type": "code",
   "execution_count": 38,
   "metadata": {
    "collapsed": false
   },
   "outputs": [],
   "source": [
    "cov_t=t.cov()"
   ]
  },
  {
   "cell_type": "code",
   "execution_count": 88,
   "metadata": {
    "collapsed": false
   },
   "outputs": [
    {
     "data": {
      "text/html": [
       "<div>\n",
       "<table border=\"1\" class=\"dataframe\">\n",
       "  <thead>\n",
       "    <tr style=\"text-align: right;\">\n",
       "      <th></th>\n",
       "      <th>jp_morgan</th>\n",
       "      <th>citibank</th>\n",
       "      <th>wells_fargo</th>\n",
       "      <th>royal</th>\n",
       "      <th>exxon</th>\n",
       "    </tr>\n",
       "  </thead>\n",
       "  <tbody>\n",
       "    <tr>\n",
       "      <th>jp_morgan</th>\n",
       "      <td>0.000433</td>\n",
       "      <td>0.000276</td>\n",
       "      <td>0.000159</td>\n",
       "      <td>0.000064</td>\n",
       "      <td>0.000089</td>\n",
       "    </tr>\n",
       "    <tr>\n",
       "      <th>citibank</th>\n",
       "      <td>0.000276</td>\n",
       "      <td>0.000439</td>\n",
       "      <td>0.000180</td>\n",
       "      <td>0.000181</td>\n",
       "      <td>0.000123</td>\n",
       "    </tr>\n",
       "    <tr>\n",
       "      <th>wells_fargo</th>\n",
       "      <td>0.000159</td>\n",
       "      <td>0.000180</td>\n",
       "      <td>0.000224</td>\n",
       "      <td>0.000073</td>\n",
       "      <td>0.000061</td>\n",
       "    </tr>\n",
       "    <tr>\n",
       "      <th>royal</th>\n",
       "      <td>0.000064</td>\n",
       "      <td>0.000181</td>\n",
       "      <td>0.000073</td>\n",
       "      <td>0.000722</td>\n",
       "      <td>0.000508</td>\n",
       "    </tr>\n",
       "    <tr>\n",
       "      <th>exxon</th>\n",
       "      <td>0.000089</td>\n",
       "      <td>0.000123</td>\n",
       "      <td>0.000061</td>\n",
       "      <td>0.000508</td>\n",
       "      <td>0.000766</td>\n",
       "    </tr>\n",
       "  </tbody>\n",
       "</table>\n",
       "</div>"
      ],
      "text/plain": [
       "             jp_morgan  citibank  wells_fargo     royal     exxon\n",
       "jp_morgan     0.000433  0.000276     0.000159  0.000064  0.000089\n",
       "citibank      0.000276  0.000439     0.000180  0.000181  0.000123\n",
       "wells_fargo   0.000159  0.000180     0.000224  0.000073  0.000061\n",
       "royal         0.000064  0.000181     0.000073  0.000722  0.000508\n",
       "exxon         0.000089  0.000123     0.000061  0.000508  0.000766"
      ]
     },
     "execution_count": 88,
     "metadata": {},
     "output_type": "execute_result"
    }
   ],
   "source": [
    "cov_t"
   ]
  },
  {
   "cell_type": "code",
   "execution_count": 39,
   "metadata": {
    "collapsed": false
   },
   "outputs": [],
   "source": [
    "w,v=np.linalg.eig(cov_t)"
   ]
  },
  {
   "cell_type": "code",
   "execution_count": 40,
   "metadata": {
    "collapsed": false
   },
   "outputs": [
    {
     "data": {
      "text/plain": [
       "array([ 0.00136768,  0.00070116,  0.0002538 ,  0.0001426 ,  0.00011889])"
      ]
     },
     "execution_count": 40,
     "metadata": {},
     "output_type": "execute_result"
    }
   ],
   "source": [
    "w #Eigenvalues"
   ]
  },
  {
   "cell_type": "code",
   "execution_count": 41,
   "metadata": {
    "collapsed": false
   },
   "outputs": [
    {
     "data": {
      "text/plain": [
       "array([[ 0.22282283,  0.62522603, -0.32611218, -0.662759  ,  0.11765952],\n",
       "       [ 0.30728997,  0.57039003,  0.24959014,  0.4140935 , -0.58860803],\n",
       "       [ 0.1548103 ,  0.34450492,  0.03763929,  0.49704993,  0.78030428],\n",
       "       [ 0.63896798, -0.24794753,  0.64249741, -0.30886888,  0.14845546],\n",
       "       [ 0.65090441, -0.32184779, -0.64586064,  0.21637575, -0.09371777]])"
      ]
     },
     "execution_count": 41,
     "metadata": {},
     "output_type": "execute_result"
    }
   ],
   "source": [
    "v #Eigenvectors"
   ]
  },
  {
   "cell_type": "code",
   "execution_count": 22,
   "metadata": {
    "collapsed": false
   },
   "outputs": [
    {
     "data": {
      "text/plain": [
       "matrix([[-0.92387953,  0.38268343,  0.        ],\n",
       "        [-0.38268343, -0.92387953,  0.        ],\n",
       "        [ 0.        ,  0.        ,  1.        ]])"
      ]
     },
     "execution_count": 22,
     "metadata": {},
     "output_type": "execute_result"
    }
   ],
   "source": [
    "v"
   ]
  },
  {
   "cell_type": "code",
   "execution_count": 67,
   "metadata": {
    "collapsed": false
   },
   "outputs": [],
   "source": [
    "corr_t=t.corr()"
   ]
  },
  {
   "cell_type": "code",
   "execution_count": 68,
   "metadata": {
    "collapsed": true
   },
   "outputs": [],
   "source": [
    "a,b=np.linalg.eig(corr_t)"
   ]
  },
  {
   "cell_type": "code",
   "execution_count": 76,
   "metadata": {
    "collapsed": false
   },
   "outputs": [
    {
     "data": {
      "text/plain": [
       "array([ 2.43727312,  1.40701266,  0.25516988,  0.50051275,  0.40003159])"
      ]
     },
     "execution_count": 76,
     "metadata": {},
     "output_type": "execute_result"
    }
   ],
   "source": [
    "a"
   ]
  },
  {
   "cell_type": "code",
   "execution_count": 70,
   "metadata": {
    "collapsed": false
   },
   "outputs": [
    {
     "data": {
      "text/plain": [
       "array([[ 0.46908321,  0.36800696,  0.3841216 ,  0.60431522,  0.36302278],\n",
       "       [ 0.53240549,  0.23646236, -0.49618794,  0.13610618, -0.6292079 ],\n",
       "       [ 0.46516333,  0.3151795 ,  0.07116948, -0.7718281 ,  0.28896583],\n",
       "       [ 0.38734594, -0.58503725,  0.59466408, -0.09336192, -0.38125151],\n",
       "       [ 0.36068206, -0.60584628, -0.49755167,  0.10882629,  0.49341454]])"
      ]
     },
     "execution_count": 70,
     "metadata": {},
     "output_type": "execute_result"
    }
   ],
   "source": [
    "b"
   ]
  },
  {
   "cell_type": "code",
   "execution_count": 71,
   "metadata": {
    "collapsed": true
   },
   "outputs": [],
   "source": [
    "mlab_pca = mlabPCA(t)"
   ]
  },
  {
   "cell_type": "code",
   "execution_count": 82,
   "metadata": {
    "collapsed": false
   },
   "outputs": [
    {
     "data": {
      "text/plain": [
       "array([ 0.48745462,  0.28140253,  0.10010255,  0.08000632,  0.05103398])"
      ]
     },
     "execution_count": 82,
     "metadata": {},
     "output_type": "execute_result"
    }
   ],
   "source": [
    "mlab_pca.fracs"
   ]
  },
  {
   "cell_type": "code",
   "execution_count": 49,
   "metadata": {
    "collapsed": false
   },
   "outputs": [],
   "source": [
    "sklearn_pca = sklearnPCA()"
   ]
  },
  {
   "cell_type": "code",
   "execution_count": 84,
   "metadata": {
    "collapsed": true
   },
   "outputs": [],
   "source": [
    "sklearn_transf = sklearn_pca.fit(t)"
   ]
  },
  {
   "cell_type": "code",
   "execution_count": 85,
   "metadata": {
    "collapsed": false
   },
   "outputs": [
    {
     "data": {
      "text/plain": [
       "5"
      ]
     },
     "execution_count": 85,
     "metadata": {},
     "output_type": "execute_result"
    }
   ],
   "source": [
    "sklearn_pca.n_components_"
   ]
  },
  {
   "cell_type": "code",
   "execution_count": 86,
   "metadata": {
    "collapsed": false
   },
   "outputs": [
    {
     "data": {
      "text/plain": [
       "array([ 0.52926066,  0.27133298,  0.09821584,  0.055184  ,  0.04600652])"
      ]
     },
     "execution_count": 86,
     "metadata": {},
     "output_type": "execute_result"
    }
   ],
   "source": [
    "sklearn_pca.explained_variance_ratio_"
   ]
  },
  {
   "cell_type": "code",
   "execution_count": 87,
   "metadata": {
    "collapsed": false
   },
   "outputs": [
    {
     "data": {
      "text/plain": [
       "array([[  4.29062956e-04,   2.72991513e-04,   1.57482576e-04,\n",
       "          6.34967768e-05,   8.81024077e-05],\n",
       "       [  2.72991513e-04,   4.34457814e-04,   1.78226373e-04,\n",
       "          1.79689543e-04,   1.22065554e-04],\n",
       "       [  1.57482576e-04,   1.78226373e-04,   2.21797706e-04,\n",
       "          7.27007278e-05,   5.99582916e-05],\n",
       "       [  6.34967768e-05,   1.79689543e-04,   7.27007278e-05,\n",
       "          7.15481882e-04,   5.03342471e-04],\n",
       "       [  8.81024077e-05,   1.22065554e-04,   5.99582916e-05,\n",
       "          5.03342471e-04,   7.58240443e-04]])"
      ]
     },
     "execution_count": 87,
     "metadata": {},
     "output_type": "execute_result"
    }
   ],
   "source": [
    "sklearn_pca.get_covariance()"
   ]
  },
  {
   "cell_type": "code",
   "execution_count": 89,
   "metadata": {
    "collapsed": false
   },
   "outputs": [
    {
     "data": {
      "text/plain": [
       "{'copy': True, 'n_components': None, 'whiten': False}"
      ]
     },
     "execution_count": 89,
     "metadata": {},
     "output_type": "execute_result"
    }
   ],
   "source": [
    "sklearn_pca.get_params()"
   ]
  },
  {
   "cell_type": "code",
   "execution_count": null,
   "metadata": {
    "collapsed": true
   },
   "outputs": [],
   "source": []
  }
 ],
 "metadata": {
  "kernelspec": {
   "display_name": "Python 3",
   "language": "python",
   "name": "python3"
  },
  "language_info": {
   "codemirror_mode": {
    "name": "ipython",
    "version": 3
   },
   "file_extension": ".py",
   "mimetype": "text/x-python",
   "name": "python",
   "nbconvert_exporter": "python",
   "pygments_lexer": "ipython3",
   "version": "3.5.1"
  }
 },
 "nbformat": 4,
 "nbformat_minor": 0
}
