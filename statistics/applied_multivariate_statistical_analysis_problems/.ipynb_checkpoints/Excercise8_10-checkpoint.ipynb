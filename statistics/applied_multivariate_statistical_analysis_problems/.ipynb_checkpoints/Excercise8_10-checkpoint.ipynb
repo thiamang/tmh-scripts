{
 "cells": [
  {
   "cell_type": "code",
   "execution_count": 1,
   "metadata": {
    "collapsed": true
   },
   "outputs": [],
   "source": [
    "import pandas as pd"
   ]
  },
  {
   "cell_type": "code",
   "execution_count": null,
   "metadata": {
    "collapsed": true
   },
   "outputs": [],
   "source": [
    "t=pd.read_csv('/Users/thiamang/Documents/github/personal/python/models/mvdata/T1-5.dat', sep='\\s+', header=None, skiprows=0);\n",
    "\n",
    "#t=t.rename(columns={0:'wind', 1:'solar_radiation', 2:'CO', 3:'NO', 4:'NO2', 5:'O3', 6:'HC'})"
   ]
  }
 ],
 "metadata": {
  "kernelspec": {
   "display_name": "Python 3",
   "language": "python",
   "name": "python3"
  },
  "language_info": {
   "codemirror_mode": {
    "name": "ipython",
    "version": 3
   },
   "file_extension": ".py",
   "mimetype": "text/x-python",
   "name": "python",
   "nbconvert_exporter": "python",
   "pygments_lexer": "ipython3",
   "version": "3.5.1"
  }
 },
 "nbformat": 4,
 "nbformat_minor": 0
}
